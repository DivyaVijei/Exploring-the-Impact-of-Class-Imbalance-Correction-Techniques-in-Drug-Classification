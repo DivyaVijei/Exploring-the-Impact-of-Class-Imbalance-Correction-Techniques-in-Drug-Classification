{
 "cells": [
  {
   "cell_type": "code",
   "execution_count": 2,
   "metadata": {
    "colab": {
     "base_uri": "https://localhost:8080/",
     "height": 424
    },
    "executionInfo": {
     "elapsed": 2488,
     "status": "ok",
     "timestamp": 1722108747413,
     "user": {
      "displayName": "Jada",
      "userId": "13373990166318476339"
     },
     "user_tz": -330
    },
    "id": "xfYOqmwN8m_A",
    "outputId": "882b1b4e-7e5e-4ae6-be7f-de9d2247af31"
   },
   "outputs": [
    {
     "data": {
      "application/vnd.google.colaboratory.intrinsic+json": {
       "summary": "{\n  \"name\": \"cla_imb\",\n  \"rows\": 200,\n  \"fields\": [\n    {\n      \"column\": \"Age\",\n      \"properties\": {\n        \"dtype\": \"number\",\n        \"std\": 16,\n        \"min\": 15,\n        \"max\": 74,\n        \"num_unique_values\": 57,\n        \"samples\": [\n          23,\n          49,\n          37\n        ],\n        \"semantic_type\": \"\",\n        \"description\": \"\"\n      }\n    },\n    {\n      \"column\": \"Sex\",\n      \"properties\": {\n        \"dtype\": \"number\",\n        \"std\": 0,\n        \"min\": 0,\n        \"max\": 1,\n        \"num_unique_values\": 2,\n        \"samples\": [\n          1,\n          0\n        ],\n        \"semantic_type\": \"\",\n        \"description\": \"\"\n      }\n    },\n    {\n      \"column\": \"BP\",\n      \"properties\": {\n        \"dtype\": \"number\",\n        \"std\": 0,\n        \"min\": 0,\n        \"max\": 2,\n        \"num_unique_values\": 3,\n        \"samples\": [\n          0,\n          1\n        ],\n        \"semantic_type\": \"\",\n        \"description\": \"\"\n      }\n    },\n    {\n      \"column\": \"Cholesterol\",\n      \"properties\": {\n        \"dtype\": \"number\",\n        \"std\": 0,\n        \"min\": 0,\n        \"max\": 1,\n        \"num_unique_values\": 2,\n        \"samples\": [\n          1,\n          0\n        ],\n        \"semantic_type\": \"\",\n        \"description\": \"\"\n      }\n    },\n    {\n      \"column\": \"Na_to_K\",\n      \"properties\": {\n        \"dtype\": \"number\",\n        \"std\": 7.223955528459516,\n        \"min\": 6.269,\n        \"max\": 38.247,\n        \"num_unique_values\": 198,\n        \"samples\": [\n          27.05,\n          9.281\n        ],\n        \"semantic_type\": \"\",\n        \"description\": \"\"\n      }\n    },\n    {\n      \"column\": \"Drug\",\n      \"properties\": {\n        \"dtype\": \"number\",\n        \"std\": 1,\n        \"min\": 0,\n        \"max\": 4,\n        \"num_unique_values\": 5,\n        \"samples\": [\n          2,\n          1\n        ],\n        \"semantic_type\": \"\",\n        \"description\": \"\"\n      }\n    }\n  ]\n}",
       "type": "dataframe",
       "variable_name": "cla_imb"
      },
      "text/html": [
       "\n",
       "  <div id=\"df-ccef0b0e-da0a-4f5c-bdc0-4e8142842a89\" class=\"colab-df-container\">\n",
       "    <div>\n",
       "<style scoped>\n",
       "    .dataframe tbody tr th:only-of-type {\n",
       "        vertical-align: middle;\n",
       "    }\n",
       "\n",
       "    .dataframe tbody tr th {\n",
       "        vertical-align: top;\n",
       "    }\n",
       "\n",
       "    .dataframe thead th {\n",
       "        text-align: right;\n",
       "    }\n",
       "</style>\n",
       "<table border=\"1\" class=\"dataframe\">\n",
       "  <thead>\n",
       "    <tr style=\"text-align: right;\">\n",
       "      <th></th>\n",
       "      <th>Age</th>\n",
       "      <th>Sex</th>\n",
       "      <th>BP</th>\n",
       "      <th>Cholesterol</th>\n",
       "      <th>Na_to_K</th>\n",
       "      <th>Drug</th>\n",
       "    </tr>\n",
       "  </thead>\n",
       "  <tbody>\n",
       "    <tr>\n",
       "      <th>0</th>\n",
       "      <td>23</td>\n",
       "      <td>0</td>\n",
       "      <td>0</td>\n",
       "      <td>0</td>\n",
       "      <td>25.355</td>\n",
       "      <td>4</td>\n",
       "    </tr>\n",
       "    <tr>\n",
       "      <th>1</th>\n",
       "      <td>47</td>\n",
       "      <td>1</td>\n",
       "      <td>1</td>\n",
       "      <td>0</td>\n",
       "      <td>13.093</td>\n",
       "      <td>2</td>\n",
       "    </tr>\n",
       "    <tr>\n",
       "      <th>2</th>\n",
       "      <td>47</td>\n",
       "      <td>1</td>\n",
       "      <td>1</td>\n",
       "      <td>0</td>\n",
       "      <td>10.114</td>\n",
       "      <td>2</td>\n",
       "    </tr>\n",
       "    <tr>\n",
       "      <th>3</th>\n",
       "      <td>28</td>\n",
       "      <td>0</td>\n",
       "      <td>2</td>\n",
       "      <td>0</td>\n",
       "      <td>7.798</td>\n",
       "      <td>3</td>\n",
       "    </tr>\n",
       "    <tr>\n",
       "      <th>4</th>\n",
       "      <td>61</td>\n",
       "      <td>0</td>\n",
       "      <td>1</td>\n",
       "      <td>0</td>\n",
       "      <td>18.043</td>\n",
       "      <td>4</td>\n",
       "    </tr>\n",
       "    <tr>\n",
       "      <th>...</th>\n",
       "      <td>...</td>\n",
       "      <td>...</td>\n",
       "      <td>...</td>\n",
       "      <td>...</td>\n",
       "      <td>...</td>\n",
       "      <td>...</td>\n",
       "    </tr>\n",
       "    <tr>\n",
       "      <th>195</th>\n",
       "      <td>56</td>\n",
       "      <td>0</td>\n",
       "      <td>1</td>\n",
       "      <td>0</td>\n",
       "      <td>11.567</td>\n",
       "      <td>2</td>\n",
       "    </tr>\n",
       "    <tr>\n",
       "      <th>196</th>\n",
       "      <td>16</td>\n",
       "      <td>1</td>\n",
       "      <td>1</td>\n",
       "      <td>0</td>\n",
       "      <td>12.006</td>\n",
       "      <td>2</td>\n",
       "    </tr>\n",
       "    <tr>\n",
       "      <th>197</th>\n",
       "      <td>52</td>\n",
       "      <td>1</td>\n",
       "      <td>2</td>\n",
       "      <td>0</td>\n",
       "      <td>9.894</td>\n",
       "      <td>3</td>\n",
       "    </tr>\n",
       "    <tr>\n",
       "      <th>198</th>\n",
       "      <td>23</td>\n",
       "      <td>1</td>\n",
       "      <td>2</td>\n",
       "      <td>1</td>\n",
       "      <td>14.020</td>\n",
       "      <td>3</td>\n",
       "    </tr>\n",
       "    <tr>\n",
       "      <th>199</th>\n",
       "      <td>40</td>\n",
       "      <td>0</td>\n",
       "      <td>1</td>\n",
       "      <td>1</td>\n",
       "      <td>11.349</td>\n",
       "      <td>3</td>\n",
       "    </tr>\n",
       "  </tbody>\n",
       "</table>\n",
       "<p>200 rows × 6 columns</p>\n",
       "</div>\n",
       "    <div class=\"colab-df-buttons\">\n",
       "\n",
       "  <div class=\"colab-df-container\">\n",
       "    <button class=\"colab-df-convert\" onclick=\"convertToInteractive('df-ccef0b0e-da0a-4f5c-bdc0-4e8142842a89')\"\n",
       "            title=\"Convert this dataframe to an interactive table.\"\n",
       "            style=\"display:none;\">\n",
       "\n",
       "  <svg xmlns=\"http://www.w3.org/2000/svg\" height=\"24px\" viewBox=\"0 -960 960 960\">\n",
       "    <path d=\"M120-120v-720h720v720H120Zm60-500h600v-160H180v160Zm220 220h160v-160H400v160Zm0 220h160v-160H400v160ZM180-400h160v-160H180v160Zm440 0h160v-160H620v160ZM180-180h160v-160H180v160Zm440 0h160v-160H620v160Z\"/>\n",
       "  </svg>\n",
       "    </button>\n",
       "\n",
       "  <style>\n",
       "    .colab-df-container {\n",
       "      display:flex;\n",
       "      gap: 12px;\n",
       "    }\n",
       "\n",
       "    .colab-df-convert {\n",
       "      background-color: #E8F0FE;\n",
       "      border: none;\n",
       "      border-radius: 50%;\n",
       "      cursor: pointer;\n",
       "      display: none;\n",
       "      fill: #1967D2;\n",
       "      height: 32px;\n",
       "      padding: 0 0 0 0;\n",
       "      width: 32px;\n",
       "    }\n",
       "\n",
       "    .colab-df-convert:hover {\n",
       "      background-color: #E2EBFA;\n",
       "      box-shadow: 0px 1px 2px rgba(60, 64, 67, 0.3), 0px 1px 3px 1px rgba(60, 64, 67, 0.15);\n",
       "      fill: #174EA6;\n",
       "    }\n",
       "\n",
       "    .colab-df-buttons div {\n",
       "      margin-bottom: 4px;\n",
       "    }\n",
       "\n",
       "    [theme=dark] .colab-df-convert {\n",
       "      background-color: #3B4455;\n",
       "      fill: #D2E3FC;\n",
       "    }\n",
       "\n",
       "    [theme=dark] .colab-df-convert:hover {\n",
       "      background-color: #434B5C;\n",
       "      box-shadow: 0px 1px 3px 1px rgba(0, 0, 0, 0.15);\n",
       "      filter: drop-shadow(0px 1px 2px rgba(0, 0, 0, 0.3));\n",
       "      fill: #FFFFFF;\n",
       "    }\n",
       "  </style>\n",
       "\n",
       "    <script>\n",
       "      const buttonEl =\n",
       "        document.querySelector('#df-ccef0b0e-da0a-4f5c-bdc0-4e8142842a89 button.colab-df-convert');\n",
       "      buttonEl.style.display =\n",
       "        google.colab.kernel.accessAllowed ? 'block' : 'none';\n",
       "\n",
       "      async function convertToInteractive(key) {\n",
       "        const element = document.querySelector('#df-ccef0b0e-da0a-4f5c-bdc0-4e8142842a89');\n",
       "        const dataTable =\n",
       "          await google.colab.kernel.invokeFunction('convertToInteractive',\n",
       "                                                    [key], {});\n",
       "        if (!dataTable) return;\n",
       "\n",
       "        const docLinkHtml = 'Like what you see? Visit the ' +\n",
       "          '<a target=\"_blank\" href=https://colab.research.google.com/notebooks/data_table.ipynb>data table notebook</a>'\n",
       "          + ' to learn more about interactive tables.';\n",
       "        element.innerHTML = '';\n",
       "        dataTable['output_type'] = 'display_data';\n",
       "        await google.colab.output.renderOutput(dataTable, element);\n",
       "        const docLink = document.createElement('div');\n",
       "        docLink.innerHTML = docLinkHtml;\n",
       "        element.appendChild(docLink);\n",
       "      }\n",
       "    </script>\n",
       "  </div>\n",
       "\n",
       "\n",
       "<div id=\"df-e5af8796-c5f1-47b3-a8b8-38de1d5dbb70\">\n",
       "  <button class=\"colab-df-quickchart\" onclick=\"quickchart('df-e5af8796-c5f1-47b3-a8b8-38de1d5dbb70')\"\n",
       "            title=\"Suggest charts\"\n",
       "            style=\"display:none;\">\n",
       "\n",
       "<svg xmlns=\"http://www.w3.org/2000/svg\" height=\"24px\"viewBox=\"0 0 24 24\"\n",
       "     width=\"24px\">\n",
       "    <g>\n",
       "        <path d=\"M19 3H5c-1.1 0-2 .9-2 2v14c0 1.1.9 2 2 2h14c1.1 0 2-.9 2-2V5c0-1.1-.9-2-2-2zM9 17H7v-7h2v7zm4 0h-2V7h2v10zm4 0h-2v-4h2v4z\"/>\n",
       "    </g>\n",
       "</svg>\n",
       "  </button>\n",
       "\n",
       "<style>\n",
       "  .colab-df-quickchart {\n",
       "      --bg-color: #E8F0FE;\n",
       "      --fill-color: #1967D2;\n",
       "      --hover-bg-color: #E2EBFA;\n",
       "      --hover-fill-color: #174EA6;\n",
       "      --disabled-fill-color: #AAA;\n",
       "      --disabled-bg-color: #DDD;\n",
       "  }\n",
       "\n",
       "  [theme=dark] .colab-df-quickchart {\n",
       "      --bg-color: #3B4455;\n",
       "      --fill-color: #D2E3FC;\n",
       "      --hover-bg-color: #434B5C;\n",
       "      --hover-fill-color: #FFFFFF;\n",
       "      --disabled-bg-color: #3B4455;\n",
       "      --disabled-fill-color: #666;\n",
       "  }\n",
       "\n",
       "  .colab-df-quickchart {\n",
       "    background-color: var(--bg-color);\n",
       "    border: none;\n",
       "    border-radius: 50%;\n",
       "    cursor: pointer;\n",
       "    display: none;\n",
       "    fill: var(--fill-color);\n",
       "    height: 32px;\n",
       "    padding: 0;\n",
       "    width: 32px;\n",
       "  }\n",
       "\n",
       "  .colab-df-quickchart:hover {\n",
       "    background-color: var(--hover-bg-color);\n",
       "    box-shadow: 0 1px 2px rgba(60, 64, 67, 0.3), 0 1px 3px 1px rgba(60, 64, 67, 0.15);\n",
       "    fill: var(--button-hover-fill-color);\n",
       "  }\n",
       "\n",
       "  .colab-df-quickchart-complete:disabled,\n",
       "  .colab-df-quickchart-complete:disabled:hover {\n",
       "    background-color: var(--disabled-bg-color);\n",
       "    fill: var(--disabled-fill-color);\n",
       "    box-shadow: none;\n",
       "  }\n",
       "\n",
       "  .colab-df-spinner {\n",
       "    border: 2px solid var(--fill-color);\n",
       "    border-color: transparent;\n",
       "    border-bottom-color: var(--fill-color);\n",
       "    animation:\n",
       "      spin 1s steps(1) infinite;\n",
       "  }\n",
       "\n",
       "  @keyframes spin {\n",
       "    0% {\n",
       "      border-color: transparent;\n",
       "      border-bottom-color: var(--fill-color);\n",
       "      border-left-color: var(--fill-color);\n",
       "    }\n",
       "    20% {\n",
       "      border-color: transparent;\n",
       "      border-left-color: var(--fill-color);\n",
       "      border-top-color: var(--fill-color);\n",
       "    }\n",
       "    30% {\n",
       "      border-color: transparent;\n",
       "      border-left-color: var(--fill-color);\n",
       "      border-top-color: var(--fill-color);\n",
       "      border-right-color: var(--fill-color);\n",
       "    }\n",
       "    40% {\n",
       "      border-color: transparent;\n",
       "      border-right-color: var(--fill-color);\n",
       "      border-top-color: var(--fill-color);\n",
       "    }\n",
       "    60% {\n",
       "      border-color: transparent;\n",
       "      border-right-color: var(--fill-color);\n",
       "    }\n",
       "    80% {\n",
       "      border-color: transparent;\n",
       "      border-right-color: var(--fill-color);\n",
       "      border-bottom-color: var(--fill-color);\n",
       "    }\n",
       "    90% {\n",
       "      border-color: transparent;\n",
       "      border-bottom-color: var(--fill-color);\n",
       "    }\n",
       "  }\n",
       "</style>\n",
       "\n",
       "  <script>\n",
       "    async function quickchart(key) {\n",
       "      const quickchartButtonEl =\n",
       "        document.querySelector('#' + key + ' button');\n",
       "      quickchartButtonEl.disabled = true;  // To prevent multiple clicks.\n",
       "      quickchartButtonEl.classList.add('colab-df-spinner');\n",
       "      try {\n",
       "        const charts = await google.colab.kernel.invokeFunction(\n",
       "            'suggestCharts', [key], {});\n",
       "      } catch (error) {\n",
       "        console.error('Error during call to suggestCharts:', error);\n",
       "      }\n",
       "      quickchartButtonEl.classList.remove('colab-df-spinner');\n",
       "      quickchartButtonEl.classList.add('colab-df-quickchart-complete');\n",
       "    }\n",
       "    (() => {\n",
       "      let quickchartButtonEl =\n",
       "        document.querySelector('#df-e5af8796-c5f1-47b3-a8b8-38de1d5dbb70 button');\n",
       "      quickchartButtonEl.style.display =\n",
       "        google.colab.kernel.accessAllowed ? 'block' : 'none';\n",
       "    })();\n",
       "  </script>\n",
       "</div>\n",
       "\n",
       "  <div id=\"id_fdded11f-8e55-4b25-b377-f1bc7309b3fe\">\n",
       "    <style>\n",
       "      .colab-df-generate {\n",
       "        background-color: #E8F0FE;\n",
       "        border: none;\n",
       "        border-radius: 50%;\n",
       "        cursor: pointer;\n",
       "        display: none;\n",
       "        fill: #1967D2;\n",
       "        height: 32px;\n",
       "        padding: 0 0 0 0;\n",
       "        width: 32px;\n",
       "      }\n",
       "\n",
       "      .colab-df-generate:hover {\n",
       "        background-color: #E2EBFA;\n",
       "        box-shadow: 0px 1px 2px rgba(60, 64, 67, 0.3), 0px 1px 3px 1px rgba(60, 64, 67, 0.15);\n",
       "        fill: #174EA6;\n",
       "      }\n",
       "\n",
       "      [theme=dark] .colab-df-generate {\n",
       "        background-color: #3B4455;\n",
       "        fill: #D2E3FC;\n",
       "      }\n",
       "\n",
       "      [theme=dark] .colab-df-generate:hover {\n",
       "        background-color: #434B5C;\n",
       "        box-shadow: 0px 1px 3px 1px rgba(0, 0, 0, 0.15);\n",
       "        filter: drop-shadow(0px 1px 2px rgba(0, 0, 0, 0.3));\n",
       "        fill: #FFFFFF;\n",
       "      }\n",
       "    </style>\n",
       "    <button class=\"colab-df-generate\" onclick=\"generateWithVariable('cla_imb')\"\n",
       "            title=\"Generate code using this dataframe.\"\n",
       "            style=\"display:none;\">\n",
       "\n",
       "  <svg xmlns=\"http://www.w3.org/2000/svg\" height=\"24px\"viewBox=\"0 0 24 24\"\n",
       "       width=\"24px\">\n",
       "    <path d=\"M7,19H8.4L18.45,9,17,7.55,7,17.6ZM5,21V16.75L18.45,3.32a2,2,0,0,1,2.83,0l1.4,1.43a1.91,1.91,0,0,1,.58,1.4,1.91,1.91,0,0,1-.58,1.4L9.25,21ZM18.45,9,17,7.55Zm-12,3A5.31,5.31,0,0,0,4.9,8.1,5.31,5.31,0,0,0,1,6.5,5.31,5.31,0,0,0,4.9,4.9,5.31,5.31,0,0,0,6.5,1,5.31,5.31,0,0,0,8.1,4.9,5.31,5.31,0,0,0,12,6.5,5.46,5.46,0,0,0,6.5,12Z\"/>\n",
       "  </svg>\n",
       "    </button>\n",
       "    <script>\n",
       "      (() => {\n",
       "      const buttonEl =\n",
       "        document.querySelector('#id_fdded11f-8e55-4b25-b377-f1bc7309b3fe button.colab-df-generate');\n",
       "      buttonEl.style.display =\n",
       "        google.colab.kernel.accessAllowed ? 'block' : 'none';\n",
       "\n",
       "      buttonEl.onclick = () => {\n",
       "        google.colab.notebook.generateWithVariable('cla_imb');\n",
       "      }\n",
       "      })();\n",
       "    </script>\n",
       "  </div>\n",
       "\n",
       "    </div>\n",
       "  </div>\n"
      ],
      "text/plain": [
       "     Age  Sex  BP  Cholesterol  Na_to_K  Drug\n",
       "0     23    0   0            0   25.355     4\n",
       "1     47    1   1            0   13.093     2\n",
       "2     47    1   1            0   10.114     2\n",
       "3     28    0   2            0    7.798     3\n",
       "4     61    0   1            0   18.043     4\n",
       "..   ...  ...  ..          ...      ...   ...\n",
       "195   56    0   1            0   11.567     2\n",
       "196   16    1   1            0   12.006     2\n",
       "197   52    1   2            0    9.894     3\n",
       "198   23    1   2            1   14.020     3\n",
       "199   40    0   1            1   11.349     3\n",
       "\n",
       "[200 rows x 6 columns]"
      ]
     },
     "execution_count": 2,
     "metadata": {},
     "output_type": "execute_result"
    }
   ],
   "source": [
    "import pandas as cla_imbps\n",
    "cla_imb = cla_imbps.read_csv('ppcess_drug200.csv')\n",
    "cla_imb"
   ]
  },
  {
   "cell_type": "code",
   "execution_count": 3,
   "metadata": {
    "colab": {
     "base_uri": "https://localhost:8080/"
    },
    "executionInfo": {
     "elapsed": 16,
     "status": "ok",
     "timestamp": 1722108747413,
     "user": {
      "displayName": "Jada",
      "userId": "13373990166318476339"
     },
     "user_tz": -330
    },
    "id": "inc2ltqTAEXs",
    "outputId": "28183b94-0901-4738-f4fe-9fde52c2388c"
   },
   "outputs": [
    {
     "data": {
      "text/plain": [
       "Drug\n",
       "4    91\n",
       "3    54\n",
       "0    23\n",
       "2    16\n",
       "1    16\n",
       "Name: count, dtype: int64"
      ]
     },
     "execution_count": 3,
     "metadata": {},
     "output_type": "execute_result"
    }
   ],
   "source": [
    "cla_imb['Drug'].value_counts()"
   ]
  },
  {
   "cell_type": "code",
   "execution_count": 4,
   "metadata": {
    "executionInfo": {
     "elapsed": 13,
     "status": "ok",
     "timestamp": 1722108747413,
     "user": {
      "displayName": "Jada",
      "userId": "13373990166318476339"
     },
     "user_tz": -330
    },
    "id": "k4jfJLlyAJAP"
   },
   "outputs": [],
   "source": [
    "cla_imb_XP = cla_imb.drop('Drug',axis=1)\n",
    "cla_imb_YQ = cla_imb['Drug']"
   ]
  },
  {
   "cell_type": "code",
   "execution_count": 5,
   "metadata": {
    "colab": {
     "base_uri": "https://localhost:8080/",
     "height": 424
    },
    "executionInfo": {
     "elapsed": 13,
     "status": "ok",
     "timestamp": 1722108747413,
     "user": {
      "displayName": "Jada",
      "userId": "13373990166318476339"
     },
     "user_tz": -330
    },
    "id": "0ubu-el1Afw_",
    "outputId": "a0f90c73-387e-4555-fa92-71bc8a2947f1"
   },
   "outputs": [
    {
     "data": {
      "application/vnd.google.colaboratory.intrinsic+json": {
       "summary": "{\n  \"name\": \"cla_imb_XP\",\n  \"rows\": 200,\n  \"fields\": [\n    {\n      \"column\": \"Age\",\n      \"properties\": {\n        \"dtype\": \"number\",\n        \"std\": 16,\n        \"min\": 15,\n        \"max\": 74,\n        \"num_unique_values\": 57,\n        \"samples\": [\n          23,\n          49,\n          37\n        ],\n        \"semantic_type\": \"\",\n        \"description\": \"\"\n      }\n    },\n    {\n      \"column\": \"Sex\",\n      \"properties\": {\n        \"dtype\": \"number\",\n        \"std\": 0,\n        \"min\": 0,\n        \"max\": 1,\n        \"num_unique_values\": 2,\n        \"samples\": [\n          1,\n          0\n        ],\n        \"semantic_type\": \"\",\n        \"description\": \"\"\n      }\n    },\n    {\n      \"column\": \"BP\",\n      \"properties\": {\n        \"dtype\": \"number\",\n        \"std\": 0,\n        \"min\": 0,\n        \"max\": 2,\n        \"num_unique_values\": 3,\n        \"samples\": [\n          0,\n          1\n        ],\n        \"semantic_type\": \"\",\n        \"description\": \"\"\n      }\n    },\n    {\n      \"column\": \"Cholesterol\",\n      \"properties\": {\n        \"dtype\": \"number\",\n        \"std\": 0,\n        \"min\": 0,\n        \"max\": 1,\n        \"num_unique_values\": 2,\n        \"samples\": [\n          1,\n          0\n        ],\n        \"semantic_type\": \"\",\n        \"description\": \"\"\n      }\n    },\n    {\n      \"column\": \"Na_to_K\",\n      \"properties\": {\n        \"dtype\": \"number\",\n        \"std\": 7.223955528459516,\n        \"min\": 6.269,\n        \"max\": 38.247,\n        \"num_unique_values\": 198,\n        \"samples\": [\n          27.05,\n          9.281\n        ],\n        \"semantic_type\": \"\",\n        \"description\": \"\"\n      }\n    }\n  ]\n}",
       "type": "dataframe",
       "variable_name": "cla_imb_XP"
      },
      "text/html": [
       "\n",
       "  <div id=\"df-ad47ea83-92f3-4eb0-9de4-6850ed2db675\" class=\"colab-df-container\">\n",
       "    <div>\n",
       "<style scoped>\n",
       "    .dataframe tbody tr th:only-of-type {\n",
       "        vertical-align: middle;\n",
       "    }\n",
       "\n",
       "    .dataframe tbody tr th {\n",
       "        vertical-align: top;\n",
       "    }\n",
       "\n",
       "    .dataframe thead th {\n",
       "        text-align: right;\n",
       "    }\n",
       "</style>\n",
       "<table border=\"1\" class=\"dataframe\">\n",
       "  <thead>\n",
       "    <tr style=\"text-align: right;\">\n",
       "      <th></th>\n",
       "      <th>Age</th>\n",
       "      <th>Sex</th>\n",
       "      <th>BP</th>\n",
       "      <th>Cholesterol</th>\n",
       "      <th>Na_to_K</th>\n",
       "    </tr>\n",
       "  </thead>\n",
       "  <tbody>\n",
       "    <tr>\n",
       "      <th>0</th>\n",
       "      <td>23</td>\n",
       "      <td>0</td>\n",
       "      <td>0</td>\n",
       "      <td>0</td>\n",
       "      <td>25.355</td>\n",
       "    </tr>\n",
       "    <tr>\n",
       "      <th>1</th>\n",
       "      <td>47</td>\n",
       "      <td>1</td>\n",
       "      <td>1</td>\n",
       "      <td>0</td>\n",
       "      <td>13.093</td>\n",
       "    </tr>\n",
       "    <tr>\n",
       "      <th>2</th>\n",
       "      <td>47</td>\n",
       "      <td>1</td>\n",
       "      <td>1</td>\n",
       "      <td>0</td>\n",
       "      <td>10.114</td>\n",
       "    </tr>\n",
       "    <tr>\n",
       "      <th>3</th>\n",
       "      <td>28</td>\n",
       "      <td>0</td>\n",
       "      <td>2</td>\n",
       "      <td>0</td>\n",
       "      <td>7.798</td>\n",
       "    </tr>\n",
       "    <tr>\n",
       "      <th>4</th>\n",
       "      <td>61</td>\n",
       "      <td>0</td>\n",
       "      <td>1</td>\n",
       "      <td>0</td>\n",
       "      <td>18.043</td>\n",
       "    </tr>\n",
       "    <tr>\n",
       "      <th>...</th>\n",
       "      <td>...</td>\n",
       "      <td>...</td>\n",
       "      <td>...</td>\n",
       "      <td>...</td>\n",
       "      <td>...</td>\n",
       "    </tr>\n",
       "    <tr>\n",
       "      <th>195</th>\n",
       "      <td>56</td>\n",
       "      <td>0</td>\n",
       "      <td>1</td>\n",
       "      <td>0</td>\n",
       "      <td>11.567</td>\n",
       "    </tr>\n",
       "    <tr>\n",
       "      <th>196</th>\n",
       "      <td>16</td>\n",
       "      <td>1</td>\n",
       "      <td>1</td>\n",
       "      <td>0</td>\n",
       "      <td>12.006</td>\n",
       "    </tr>\n",
       "    <tr>\n",
       "      <th>197</th>\n",
       "      <td>52</td>\n",
       "      <td>1</td>\n",
       "      <td>2</td>\n",
       "      <td>0</td>\n",
       "      <td>9.894</td>\n",
       "    </tr>\n",
       "    <tr>\n",
       "      <th>198</th>\n",
       "      <td>23</td>\n",
       "      <td>1</td>\n",
       "      <td>2</td>\n",
       "      <td>1</td>\n",
       "      <td>14.020</td>\n",
       "    </tr>\n",
       "    <tr>\n",
       "      <th>199</th>\n",
       "      <td>40</td>\n",
       "      <td>0</td>\n",
       "      <td>1</td>\n",
       "      <td>1</td>\n",
       "      <td>11.349</td>\n",
       "    </tr>\n",
       "  </tbody>\n",
       "</table>\n",
       "<p>200 rows × 5 columns</p>\n",
       "</div>\n",
       "    <div class=\"colab-df-buttons\">\n",
       "\n",
       "  <div class=\"colab-df-container\">\n",
       "    <button class=\"colab-df-convert\" onclick=\"convertToInteractive('df-ad47ea83-92f3-4eb0-9de4-6850ed2db675')\"\n",
       "            title=\"Convert this dataframe to an interactive table.\"\n",
       "            style=\"display:none;\">\n",
       "\n",
       "  <svg xmlns=\"http://www.w3.org/2000/svg\" height=\"24px\" viewBox=\"0 -960 960 960\">\n",
       "    <path d=\"M120-120v-720h720v720H120Zm60-500h600v-160H180v160Zm220 220h160v-160H400v160Zm0 220h160v-160H400v160ZM180-400h160v-160H180v160Zm440 0h160v-160H620v160ZM180-180h160v-160H180v160Zm440 0h160v-160H620v160Z\"/>\n",
       "  </svg>\n",
       "    </button>\n",
       "\n",
       "  <style>\n",
       "    .colab-df-container {\n",
       "      display:flex;\n",
       "      gap: 12px;\n",
       "    }\n",
       "\n",
       "    .colab-df-convert {\n",
       "      background-color: #E8F0FE;\n",
       "      border: none;\n",
       "      border-radius: 50%;\n",
       "      cursor: pointer;\n",
       "      display: none;\n",
       "      fill: #1967D2;\n",
       "      height: 32px;\n",
       "      padding: 0 0 0 0;\n",
       "      width: 32px;\n",
       "    }\n",
       "\n",
       "    .colab-df-convert:hover {\n",
       "      background-color: #E2EBFA;\n",
       "      box-shadow: 0px 1px 2px rgba(60, 64, 67, 0.3), 0px 1px 3px 1px rgba(60, 64, 67, 0.15);\n",
       "      fill: #174EA6;\n",
       "    }\n",
       "\n",
       "    .colab-df-buttons div {\n",
       "      margin-bottom: 4px;\n",
       "    }\n",
       "\n",
       "    [theme=dark] .colab-df-convert {\n",
       "      background-color: #3B4455;\n",
       "      fill: #D2E3FC;\n",
       "    }\n",
       "\n",
       "    [theme=dark] .colab-df-convert:hover {\n",
       "      background-color: #434B5C;\n",
       "      box-shadow: 0px 1px 3px 1px rgba(0, 0, 0, 0.15);\n",
       "      filter: drop-shadow(0px 1px 2px rgba(0, 0, 0, 0.3));\n",
       "      fill: #FFFFFF;\n",
       "    }\n",
       "  </style>\n",
       "\n",
       "    <script>\n",
       "      const buttonEl =\n",
       "        document.querySelector('#df-ad47ea83-92f3-4eb0-9de4-6850ed2db675 button.colab-df-convert');\n",
       "      buttonEl.style.display =\n",
       "        google.colab.kernel.accessAllowed ? 'block' : 'none';\n",
       "\n",
       "      async function convertToInteractive(key) {\n",
       "        const element = document.querySelector('#df-ad47ea83-92f3-4eb0-9de4-6850ed2db675');\n",
       "        const dataTable =\n",
       "          await google.colab.kernel.invokeFunction('convertToInteractive',\n",
       "                                                    [key], {});\n",
       "        if (!dataTable) return;\n",
       "\n",
       "        const docLinkHtml = 'Like what you see? Visit the ' +\n",
       "          '<a target=\"_blank\" href=https://colab.research.google.com/notebooks/data_table.ipynb>data table notebook</a>'\n",
       "          + ' to learn more about interactive tables.';\n",
       "        element.innerHTML = '';\n",
       "        dataTable['output_type'] = 'display_data';\n",
       "        await google.colab.output.renderOutput(dataTable, element);\n",
       "        const docLink = document.createElement('div');\n",
       "        docLink.innerHTML = docLinkHtml;\n",
       "        element.appendChild(docLink);\n",
       "      }\n",
       "    </script>\n",
       "  </div>\n",
       "\n",
       "\n",
       "<div id=\"df-d730e4fd-ef42-4b4f-af7f-c0d3b56b0730\">\n",
       "  <button class=\"colab-df-quickchart\" onclick=\"quickchart('df-d730e4fd-ef42-4b4f-af7f-c0d3b56b0730')\"\n",
       "            title=\"Suggest charts\"\n",
       "            style=\"display:none;\">\n",
       "\n",
       "<svg xmlns=\"http://www.w3.org/2000/svg\" height=\"24px\"viewBox=\"0 0 24 24\"\n",
       "     width=\"24px\">\n",
       "    <g>\n",
       "        <path d=\"M19 3H5c-1.1 0-2 .9-2 2v14c0 1.1.9 2 2 2h14c1.1 0 2-.9 2-2V5c0-1.1-.9-2-2-2zM9 17H7v-7h2v7zm4 0h-2V7h2v10zm4 0h-2v-4h2v4z\"/>\n",
       "    </g>\n",
       "</svg>\n",
       "  </button>\n",
       "\n",
       "<style>\n",
       "  .colab-df-quickchart {\n",
       "      --bg-color: #E8F0FE;\n",
       "      --fill-color: #1967D2;\n",
       "      --hover-bg-color: #E2EBFA;\n",
       "      --hover-fill-color: #174EA6;\n",
       "      --disabled-fill-color: #AAA;\n",
       "      --disabled-bg-color: #DDD;\n",
       "  }\n",
       "\n",
       "  [theme=dark] .colab-df-quickchart {\n",
       "      --bg-color: #3B4455;\n",
       "      --fill-color: #D2E3FC;\n",
       "      --hover-bg-color: #434B5C;\n",
       "      --hover-fill-color: #FFFFFF;\n",
       "      --disabled-bg-color: #3B4455;\n",
       "      --disabled-fill-color: #666;\n",
       "  }\n",
       "\n",
       "  .colab-df-quickchart {\n",
       "    background-color: var(--bg-color);\n",
       "    border: none;\n",
       "    border-radius: 50%;\n",
       "    cursor: pointer;\n",
       "    display: none;\n",
       "    fill: var(--fill-color);\n",
       "    height: 32px;\n",
       "    padding: 0;\n",
       "    width: 32px;\n",
       "  }\n",
       "\n",
       "  .colab-df-quickchart:hover {\n",
       "    background-color: var(--hover-bg-color);\n",
       "    box-shadow: 0 1px 2px rgba(60, 64, 67, 0.3), 0 1px 3px 1px rgba(60, 64, 67, 0.15);\n",
       "    fill: var(--button-hover-fill-color);\n",
       "  }\n",
       "\n",
       "  .colab-df-quickchart-complete:disabled,\n",
       "  .colab-df-quickchart-complete:disabled:hover {\n",
       "    background-color: var(--disabled-bg-color);\n",
       "    fill: var(--disabled-fill-color);\n",
       "    box-shadow: none;\n",
       "  }\n",
       "\n",
       "  .colab-df-spinner {\n",
       "    border: 2px solid var(--fill-color);\n",
       "    border-color: transparent;\n",
       "    border-bottom-color: var(--fill-color);\n",
       "    animation:\n",
       "      spin 1s steps(1) infinite;\n",
       "  }\n",
       "\n",
       "  @keyframes spin {\n",
       "    0% {\n",
       "      border-color: transparent;\n",
       "      border-bottom-color: var(--fill-color);\n",
       "      border-left-color: var(--fill-color);\n",
       "    }\n",
       "    20% {\n",
       "      border-color: transparent;\n",
       "      border-left-color: var(--fill-color);\n",
       "      border-top-color: var(--fill-color);\n",
       "    }\n",
       "    30% {\n",
       "      border-color: transparent;\n",
       "      border-left-color: var(--fill-color);\n",
       "      border-top-color: var(--fill-color);\n",
       "      border-right-color: var(--fill-color);\n",
       "    }\n",
       "    40% {\n",
       "      border-color: transparent;\n",
       "      border-right-color: var(--fill-color);\n",
       "      border-top-color: var(--fill-color);\n",
       "    }\n",
       "    60% {\n",
       "      border-color: transparent;\n",
       "      border-right-color: var(--fill-color);\n",
       "    }\n",
       "    80% {\n",
       "      border-color: transparent;\n",
       "      border-right-color: var(--fill-color);\n",
       "      border-bottom-color: var(--fill-color);\n",
       "    }\n",
       "    90% {\n",
       "      border-color: transparent;\n",
       "      border-bottom-color: var(--fill-color);\n",
       "    }\n",
       "  }\n",
       "</style>\n",
       "\n",
       "  <script>\n",
       "    async function quickchart(key) {\n",
       "      const quickchartButtonEl =\n",
       "        document.querySelector('#' + key + ' button');\n",
       "      quickchartButtonEl.disabled = true;  // To prevent multiple clicks.\n",
       "      quickchartButtonEl.classList.add('colab-df-spinner');\n",
       "      try {\n",
       "        const charts = await google.colab.kernel.invokeFunction(\n",
       "            'suggestCharts', [key], {});\n",
       "      } catch (error) {\n",
       "        console.error('Error during call to suggestCharts:', error);\n",
       "      }\n",
       "      quickchartButtonEl.classList.remove('colab-df-spinner');\n",
       "      quickchartButtonEl.classList.add('colab-df-quickchart-complete');\n",
       "    }\n",
       "    (() => {\n",
       "      let quickchartButtonEl =\n",
       "        document.querySelector('#df-d730e4fd-ef42-4b4f-af7f-c0d3b56b0730 button');\n",
       "      quickchartButtonEl.style.display =\n",
       "        google.colab.kernel.accessAllowed ? 'block' : 'none';\n",
       "    })();\n",
       "  </script>\n",
       "</div>\n",
       "\n",
       "  <div id=\"id_06988ac8-c115-4442-b6a8-57863870d74c\">\n",
       "    <style>\n",
       "      .colab-df-generate {\n",
       "        background-color: #E8F0FE;\n",
       "        border: none;\n",
       "        border-radius: 50%;\n",
       "        cursor: pointer;\n",
       "        display: none;\n",
       "        fill: #1967D2;\n",
       "        height: 32px;\n",
       "        padding: 0 0 0 0;\n",
       "        width: 32px;\n",
       "      }\n",
       "\n",
       "      .colab-df-generate:hover {\n",
       "        background-color: #E2EBFA;\n",
       "        box-shadow: 0px 1px 2px rgba(60, 64, 67, 0.3), 0px 1px 3px 1px rgba(60, 64, 67, 0.15);\n",
       "        fill: #174EA6;\n",
       "      }\n",
       "\n",
       "      [theme=dark] .colab-df-generate {\n",
       "        background-color: #3B4455;\n",
       "        fill: #D2E3FC;\n",
       "      }\n",
       "\n",
       "      [theme=dark] .colab-df-generate:hover {\n",
       "        background-color: #434B5C;\n",
       "        box-shadow: 0px 1px 3px 1px rgba(0, 0, 0, 0.15);\n",
       "        filter: drop-shadow(0px 1px 2px rgba(0, 0, 0, 0.3));\n",
       "        fill: #FFFFFF;\n",
       "      }\n",
       "    </style>\n",
       "    <button class=\"colab-df-generate\" onclick=\"generateWithVariable('cla_imb_XP')\"\n",
       "            title=\"Generate code using this dataframe.\"\n",
       "            style=\"display:none;\">\n",
       "\n",
       "  <svg xmlns=\"http://www.w3.org/2000/svg\" height=\"24px\"viewBox=\"0 0 24 24\"\n",
       "       width=\"24px\">\n",
       "    <path d=\"M7,19H8.4L18.45,9,17,7.55,7,17.6ZM5,21V16.75L18.45,3.32a2,2,0,0,1,2.83,0l1.4,1.43a1.91,1.91,0,0,1,.58,1.4,1.91,1.91,0,0,1-.58,1.4L9.25,21ZM18.45,9,17,7.55Zm-12,3A5.31,5.31,0,0,0,4.9,8.1,5.31,5.31,0,0,0,1,6.5,5.31,5.31,0,0,0,4.9,4.9,5.31,5.31,0,0,0,6.5,1,5.31,5.31,0,0,0,8.1,4.9,5.31,5.31,0,0,0,12,6.5,5.46,5.46,0,0,0,6.5,12Z\"/>\n",
       "  </svg>\n",
       "    </button>\n",
       "    <script>\n",
       "      (() => {\n",
       "      const buttonEl =\n",
       "        document.querySelector('#id_06988ac8-c115-4442-b6a8-57863870d74c button.colab-df-generate');\n",
       "      buttonEl.style.display =\n",
       "        google.colab.kernel.accessAllowed ? 'block' : 'none';\n",
       "\n",
       "      buttonEl.onclick = () => {\n",
       "        google.colab.notebook.generateWithVariable('cla_imb_XP');\n",
       "      }\n",
       "      })();\n",
       "    </script>\n",
       "  </div>\n",
       "\n",
       "    </div>\n",
       "  </div>\n"
      ],
      "text/plain": [
       "     Age  Sex  BP  Cholesterol  Na_to_K\n",
       "0     23    0   0            0   25.355\n",
       "1     47    1   1            0   13.093\n",
       "2     47    1   1            0   10.114\n",
       "3     28    0   2            0    7.798\n",
       "4     61    0   1            0   18.043\n",
       "..   ...  ...  ..          ...      ...\n",
       "195   56    0   1            0   11.567\n",
       "196   16    1   1            0   12.006\n",
       "197   52    1   2            0    9.894\n",
       "198   23    1   2            1   14.020\n",
       "199   40    0   1            1   11.349\n",
       "\n",
       "[200 rows x 5 columns]"
      ]
     },
     "execution_count": 5,
     "metadata": {},
     "output_type": "execute_result"
    }
   ],
   "source": [
    "cla_imb_XP"
   ]
  },
  {
   "cell_type": "code",
   "execution_count": 6,
   "metadata": {
    "colab": {
     "base_uri": "https://localhost:8080/"
    },
    "executionInfo": {
     "elapsed": 12,
     "status": "ok",
     "timestamp": 1722108747413,
     "user": {
      "displayName": "Jada",
      "userId": "13373990166318476339"
     },
     "user_tz": -330
    },
    "id": "J6TlwGsoAhne",
    "outputId": "3a91076c-38c4-4f83-8214-a852b354732e"
   },
   "outputs": [
    {
     "data": {
      "text/plain": [
       "0      4\n",
       "1      2\n",
       "2      2\n",
       "3      3\n",
       "4      4\n",
       "      ..\n",
       "195    2\n",
       "196    2\n",
       "197    3\n",
       "198    3\n",
       "199    3\n",
       "Name: Drug, Length: 200, dtype: int64"
      ]
     },
     "execution_count": 6,
     "metadata": {},
     "output_type": "execute_result"
    }
   ],
   "source": [
    "cla_imb_YQ"
   ]
  },
  {
   "cell_type": "code",
   "execution_count": 7,
   "metadata": {
    "colab": {
     "base_uri": "https://localhost:8080/"
    },
    "executionInfo": {
     "elapsed": 2676,
     "status": "ok",
     "timestamp": 1722108750078,
     "user": {
      "displayName": "Jada",
      "userId": "13373990166318476339"
     },
     "user_tz": -330
    },
    "id": "ktOD_vPSBSek",
    "outputId": "b9ebbbda-5363-46fe-f5e0-fe46c87f738f"
   },
   "outputs": [
    {
     "name": "stdout",
     "output_type": "stream",
     "text": [
      "Actual Data   :  Counter({4: 91, 3: 54, 0: 23, 2: 16, 1: 16})\n",
      "Balanced Data : Counter({0: 16, 1: 16, 2: 16, 3: 16, 4: 16})\n"
     ]
    }
   ],
   "source": [
    "import imblearn\n",
    "from imblearn.under_sampling import RandomUnderSampler as cla_undrsmp\n",
    "from collections import Counter as cla_cnt\n",
    "\n",
    "cla_imb_YQ = cla_imb['Drug']\n",
    "\n",
    "print('Actual Data   :  %s' % cla_cnt(cla_imb_YQ))\n",
    "cla_smote = cla_undrsmp()\n",
    "cla_imb_XP, cla_imb_YQ = cla_smote.fit_resample(cla_imb_XP, cla_imb_YQ)\n",
    "print('Balanced Data : %s' % cla_cnt(cla_imb_YQ))"
   ]
  },
  {
   "cell_type": "code",
   "execution_count": 8,
   "metadata": {
    "executionInfo": {
     "elapsed": 4,
     "status": "ok",
     "timestamp": 1722108750079,
     "user": {
      "displayName": "Jada",
      "userId": "13373990166318476339"
     },
     "user_tz": -330
    },
    "id": "Dydv_LirBAJQ"
   },
   "outputs": [],
   "source": [
    "from sklearn.model_selection import train_test_split as cla_imbns\n",
    "import warnings as cla_imbng\n",
    "cla_imbng.filterwarnings(\"ignore\")"
   ]
  },
  {
   "cell_type": "code",
   "execution_count": 9,
   "metadata": {
    "colab": {
     "base_uri": "https://localhost:8080/"
    },
    "executionInfo": {
     "elapsed": 713,
     "status": "ok",
     "timestamp": 1722108750789,
     "user": {
      "displayName": "Jada",
      "userId": "13373990166318476339"
     },
     "user_tz": -330
    },
    "id": "5KNt5KtxBNNV",
    "outputId": "9e2370eb-cb50-42bd-e7ea-9db796779ae3"
   },
   "outputs": [
    {
     "name": "stdout",
     "output_type": "stream",
     "text": [
      "Training data    : (48, 5)\n",
      "Testing data     : (16, 5)\n",
      "Validation data  : (16, 5)\n"
     ]
    }
   ],
   "source": [
    "cla_rs=36\n",
    "cla_ti=0.4\n",
    "cla_ti1=0.5\n",
    "\n",
    "# ::::train data--60%::::\n",
    "cla_imb_XPtr, cla_imb_XPte, cla_imb_YQtr, cla_imb_YQte = cla_imbns(cla_imb_XP, cla_imb_YQ, test_size=cla_ti, random_state= cla_rs)\n",
    "# ::::test,validation---20% & 20%\n",
    "cla_imb_XPva, cla_imb_XPte, cla_imb_YQva, cla_imb_YQte = cla_imbns(cla_imb_XPte, cla_imb_YQte, test_size=cla_ti1, random_state= cla_rs)\n",
    "\n",
    "print(\"Training data    :\", cla_imb_XPtr.shape)\n",
    "print(\"Testing data     :\", cla_imb_XPte.shape)\n",
    "print(\"Validation data  :\", cla_imb_XPva.shape)"
   ]
  },
  {
   "cell_type": "markdown",
   "metadata": {
    "id": "a7df6x8PCfRO"
   },
   "source": [
    "### Tree based algorithm"
   ]
  },
  {
   "cell_type": "code",
   "execution_count": 10,
   "metadata": {
    "executionInfo": {
     "elapsed": 4,
     "status": "ok",
     "timestamp": 1722108750789,
     "user": {
      "displayName": "Jada",
      "userId": "13373990166318476339"
     },
     "user_tz": -330
    },
    "id": "gUTI_2W3CqTH"
   },
   "outputs": [],
   "source": [
    "from sklearn.metrics import classification_report as cla_imbcfc\n",
    "from sklearn.metrics import confusion_matrix as cla_imbcom\n",
    "from sklearn.metrics import ConfusionMatrixDisplay as cla_imbcmdi\n",
    "from sklearn.model_selection import GridSearchCV as cla_imbgdrc\n",
    "import time as cla_imbttim"
   ]
  },
  {
   "cell_type": "markdown",
   "metadata": {
    "id": "mNJZhwBlDEA_"
   },
   "source": [
    "#### Decision Tree Classifier"
   ]
  },
  {
   "cell_type": "code",
   "execution_count": 11,
   "metadata": {
    "executionInfo": {
     "elapsed": 4,
     "status": "ok",
     "timestamp": 1722108750789,
     "user": {
      "displayName": "Jada",
      "userId": "13373990166318476339"
     },
     "user_tz": -330
    },
    "id": "7b0rUGz3DJ8z"
   },
   "outputs": [],
   "source": [
    "from sklearn.tree import DecisionTreeClassifier as hosp_mrt_dte"
   ]
  },
  {
   "cell_type": "code",
   "execution_count": 12,
   "metadata": {
    "colab": {
     "base_uri": "https://localhost:8080/"
    },
    "executionInfo": {
     "elapsed": 4969,
     "status": "ok",
     "timestamp": 1722108755754,
     "user": {
      "displayName": "Jada",
      "userId": "13373990166318476339"
     },
     "user_tz": -330
    },
    "id": "rYGFEB6V6PSe",
    "outputId": "300c72e6-330d-4043-c195-7d3d5045152f"
   },
   "outputs": [
    {
     "name": "stdout",
     "output_type": "stream",
     "text": [
      "Best Parameter {'criterion': 'gini', 'max_depth': None, 'min_samples_leaf': 1, 'min_samples_split': 2}\n"
     ]
    }
   ],
   "source": [
    "cladt_prm_gid = {\n",
    "    'criterion': ['gini', 'entropy'],\n",
    "    'max_depth': [None, 5, 10, 15],\n",
    "    'min_samples_split': [2, 5, 10],\n",
    "    'min_samples_leaf': [1, 2, 4]\n",
    "}\n",
    "cladt_gsh = cla_imbgdrc(estimator=hosp_mrt_dte(), param_grid=cladt_prm_gid, cv=5)\n",
    "cladt_gsh.fit(cla_imb_XPtr, cla_imb_YQtr)\n",
    "print(\"Best Parameter\",cladt_gsh.best_params_)\n",
    "cladt_mdl = cladt_gsh.best_estimator_"
   ]
  },
  {
   "cell_type": "code",
   "execution_count": 13,
   "metadata": {
    "colab": {
     "base_uri": "https://localhost:8080/",
     "height": 715
    },
    "executionInfo": {
     "elapsed": 756,
     "status": "ok",
     "timestamp": 1722108756503,
     "user": {
      "displayName": "Jada",
      "userId": "13373990166318476339"
     },
     "user_tz": -330
    },
    "id": "dSZN1-OT6oN7",
    "outputId": "899188b8-146f-4f0b-e6a0-c4dc14ef326a"
   },
   "outputs": [
    {
     "name": "stdout",
     "output_type": "stream",
     "text": [
      "**************classification report for validation data*****************\n",
      "              precision    recall  f1-score   support\n",
      "\n",
      "           0       0.67      1.00      0.80         2\n",
      "           1       1.00      0.75      0.86         4\n",
      "           2       1.00      1.00      1.00         3\n",
      "           3       1.00      1.00      1.00         3\n",
      "           4       1.00      1.00      1.00         4\n",
      "\n",
      "    accuracy                           0.94        16\n",
      "   macro avg       0.93      0.95      0.93        16\n",
      "weighted avg       0.96      0.94      0.94        16\n",
      "\n",
      "**************confusion matrix for validation data*****************\n"
     ]
    },
    {
     "data": {
      "text/plain": [
       "<sklearn.metrics._plot.confusion_matrix.ConfusionMatrixDisplay at 0x787020b011b0>"
      ]
     },
     "execution_count": 13,
     "metadata": {},
     "output_type": "execute_result"
    },
    {
     "data": {
      "image/png": "[encoded data removed]",
      "text/plain": [
       "<Figure size 640x480 with 2 Axes>"
      ]
     },
     "metadata": {},
     "output_type": "display_data"
    }
   ],
   "source": [
    "\n",
    "drug_pdt_val = cladt_mdl.predict(cla_imb_XPva)\n",
    "print(\"**************classification report for validation data*****************\")\n",
    "print(cla_imbcfc(cla_imb_YQva, drug_pdt_val))\n",
    "print(\"**************confusion matrix for validation data*****************\")\n",
    "cm_val = cla_imbcom(cla_imb_YQva, drug_pdt_val)\n",
    "disp_val = cla_imbcmdi(confusion_matrix=cm_val, display_labels=[0, 1, 2, 3, 4])\n",
    "disp_val.plot(cmap = 'summer')\n"
   ]
  },
  {
   "cell_type": "code",
   "execution_count": 14,
   "metadata": {
    "colab": {
     "base_uri": "https://localhost:8080/",
     "height": 715
    },
    "executionInfo": {
     "elapsed": 496,
     "status": "ok",
     "timestamp": 1722108756987,
     "user": {
      "displayName": "Jada",
      "userId": "13373990166318476339"
     },
     "user_tz": -330
    },
    "id": "oPNKVqGZ8dyq",
    "outputId": "116503fd-aa08-419f-ef49-bf409b096584"
   },
   "outputs": [
    {
     "name": "stdout",
     "output_type": "stream",
     "text": [
      "**************classification report for testing data*****************\n",
      "              precision    recall  f1-score   support\n",
      "\n",
      "           0       1.00      1.00      1.00         4\n",
      "           1       1.00      1.00      1.00         1\n",
      "           2       1.00      1.00      1.00         3\n",
      "           3       1.00      1.00      1.00         5\n",
      "           4       1.00      1.00      1.00         3\n",
      "\n",
      "    accuracy                           1.00        16\n",
      "   macro avg       1.00      1.00      1.00        16\n",
      "weighted avg       1.00      1.00      1.00        16\n",
      "\n",
      "**************confusion matrix for testing data*****************\n"
     ]
    },
    {
     "data": {
      "text/plain": [
       "<sklearn.metrics._plot.confusion_matrix.ConfusionMatrixDisplay at 0x78701717be20>"
      ]
     },
     "execution_count": 14,
     "metadata": {},
     "output_type": "execute_result"
    },
    {
     "data": {
      "image/png": "[encoded data removed]",
      "text/plain": [
       "<Figure size 640x480 with 2 Axes>"
      ]
     },
     "metadata": {},
     "output_type": "display_data"
    }
   ],
   "source": [
    "\n",
    "drug_pred_test = cladt_mdl.predict(cla_imb_XPte)\n",
    "print(\"**************classification report for testing data*****************\")\n",
    "print(cla_imbcfc(cla_imb_YQte, drug_pred_test))\n",
    "print(\"**************confusion matrix for testing data*****************\")\n",
    "cm_test = cla_imbcom(cla_imb_YQte, drug_pred_test)\n",
    "disp_test = cla_imbcmdi(confusion_matrix=cm_test, display_labels=[0, 1, 2, 3, 4])\n",
    "disp_test.plot(cmap = 'summer')"
   ]
  },
  {
   "cell_type": "markdown",
   "metadata": {
    "id": "5dU3CxhEGZJN"
   },
   "source": [
    "#### Extra Trees Classifier"
   ]
  },
  {
   "cell_type": "code",
   "execution_count": 15,
   "metadata": {
    "executionInfo": {
     "elapsed": 9,
     "status": "ok",
     "timestamp": 1722108756987,
     "user": {
      "displayName": "Jada",
      "userId": "13373990166318476339"
     },
     "user_tz": -330
    },
    "id": "2SYt3ycKGftT"
   },
   "outputs": [],
   "source": [
    "from sklearn.ensemble import ExtraTreesClassifier as hosp_mrt_extr"
   ]
  },
  {
   "cell_type": "code",
   "execution_count": 16,
   "metadata": {
    "colab": {
     "base_uri": "https://localhost:8080/"
    },
    "executionInfo": {
     "elapsed": 11110,
     "status": "ok",
     "timestamp": 1722108768088,
     "user": {
      "displayName": "Jada",
      "userId": "13373990166318476339"
     },
     "user_tz": -330
    },
    "id": "8CViMEk_Gf8n",
    "outputId": "8c566469-d91b-4cdd-c08e-ea1bd3b02713"
   },
   "outputs": [
    {
     "name": "stdout",
     "output_type": "stream",
     "text": [
      "Best Parameter {'criterion': 'gini', 'max_features': 'sqrt', 'min_samples_leaf': 1, 'min_samples_split': 2, 'n_estimators': 100}\n"
     ]
    }
   ],
   "source": [
    "\n",
    "clapm_gid_et = {\n",
    "    'n_estimators': [50, 100],\n",
    "    'criterion': ['gini', 'entropy'],\n",
    "    'max_features': ['auto', 'sqrt'],\n",
    "    'min_samples_split': [2, 5],\n",
    "    'min_samples_leaf': [1, 2]\n",
    "}\n",
    "cla_gid_sh_et = cla_imbgdrc(estimator=hosp_mrt_extr(), param_grid=clapm_gid_et, cv=5)\n",
    "cla_gid_sh_et.fit(cla_imb_XPtr, cla_imb_YQtr)\n",
    "print(\"Best Parameter\",cla_gid_sh_et.best_params_)\n",
    "cla_et_mod = cla_gid_sh_et.best_estimator_"
   ]
  },
  {
   "cell_type": "code",
   "execution_count": 17,
   "metadata": {
    "colab": {
     "base_uri": "https://localhost:8080/",
     "height": 715
    },
    "executionInfo": {
     "elapsed": 720,
     "status": "ok",
     "timestamp": 1722108768795,
     "user": {
      "displayName": "Jada",
      "userId": "13373990166318476339"
     },
     "user_tz": -330
    },
    "id": "TT6UAkH19JEa",
    "outputId": "abc8f7c8-d801-42f1-e044-d42a1cc35d18"
   },
   "outputs": [
    {
     "name": "stdout",
     "output_type": "stream",
     "text": [
      "**************classification report for validation data*****************\n",
      "              precision    recall  f1-score   support\n",
      "\n",
      "           0       0.67      1.00      0.80         2\n",
      "           1       1.00      0.75      0.86         4\n",
      "           2       0.75      1.00      0.86         3\n",
      "           3       1.00      1.00      1.00         3\n",
      "           4       1.00      0.75      0.86         4\n",
      "\n",
      "    accuracy                           0.88        16\n",
      "   macro avg       0.88      0.90      0.87        16\n",
      "weighted avg       0.91      0.88      0.88        16\n",
      "\n",
      "**************confusion matrix for validation data*****************\n"
     ]
    },
    {
     "data": {
      "text/plain": [
       "<sklearn.metrics._plot.confusion_matrix.ConfusionMatrixDisplay at 0x787014ecb370>"
      ]
     },
     "execution_count": 17,
     "metadata": {},
     "output_type": "execute_result"
    },
    {
     "data": {
      "image/png": "[encoded data removed]",
      "text/plain": [
       "<Figure size 640x480 with 2 Axes>"
      ]
     },
     "metadata": {},
     "output_type": "display_data"
    }
   ],
   "source": [
    "\n",
    "drug_pdt_val = cla_et_mod.predict(cla_imb_XPva)\n",
    "print(\"**************classification report for validation data*****************\")\n",
    "print(cla_imbcfc(cla_imb_YQva, drug_pdt_val))\n",
    "print(\"**************confusion matrix for validation data*****************\")\n",
    "cm_val = cla_imbcom(cla_imb_YQva, drug_pdt_val)\n",
    "disp_val = cla_imbcmdi(confusion_matrix=cm_val, display_labels=[0, 1, 2, 3, 4])\n",
    "disp_val.plot(cmap = 'summer')"
   ]
  },
  {
   "cell_type": "code",
   "execution_count": 18,
   "metadata": {
    "colab": {
     "base_uri": "https://localhost:8080/",
     "height": 715
    },
    "executionInfo": {
     "elapsed": 499,
     "status": "ok",
     "timestamp": 1722108769284,
     "user": {
      "displayName": "Jada",
      "userId": "13373990166318476339"
     },
     "user_tz": -330
    },
    "id": "xhgJlfHA9I_T",
    "outputId": "fdf1d9a4-80be-4a59-e447-54b3c8278640"
   },
   "outputs": [
    {
     "name": "stdout",
     "output_type": "stream",
     "text": [
      "**************classification report for testing data*****************\n",
      "              precision    recall  f1-score   support\n",
      "\n",
      "           0       1.00      1.00      1.00         4\n",
      "           1       1.00      1.00      1.00         1\n",
      "           2       1.00      1.00      1.00         3\n",
      "           3       1.00      1.00      1.00         5\n",
      "           4       1.00      1.00      1.00         3\n",
      "\n",
      "    accuracy                           1.00        16\n",
      "   macro avg       1.00      1.00      1.00        16\n",
      "weighted avg       1.00      1.00      1.00        16\n",
      "\n",
      "**************confusion matrix for testing data*****************\n"
     ]
    },
    {
     "data": {
      "text/plain": [
       "<sklearn.metrics._plot.confusion_matrix.ConfusionMatrixDisplay at 0x787014e2fa60>"
      ]
     },
     "execution_count": 18,
     "metadata": {},
     "output_type": "execute_result"
    },
    {
     "data": {
      "image/png": "[encoded data removed]",
      "text/plain": [
       "<Figure size 640x480 with 2 Axes>"
      ]
     },
     "metadata": {},
     "output_type": "display_data"
    }
   ],
   "source": [
    "\n",
    "drug_pred_test = cla_et_mod.predict(cla_imb_XPte)\n",
    "print(\"**************classification report for testing data*****************\")\n",
    "print(cla_imbcfc(cla_imb_YQte, drug_pred_test))\n",
    "print(\"**************confusion matrix for testing data*****************\")\n",
    "cm_test = cla_imbcom(cla_imb_YQte, drug_pred_test)\n",
    "disp_test = cla_imbcmdi(confusion_matrix=cm_test, display_labels=[0, 1, 2, 3, 4])\n",
    "disp_test.plot(cmap = 'summer')"
   ]
  },
  {
   "cell_type": "markdown",
   "metadata": {
    "id": "QhzAIqe_IHaT"
   },
   "source": [
    "### Ensemble methods"
   ]
  },
  {
   "cell_type": "markdown",
   "metadata": {
    "id": "w1QMnvsJIcST"
   },
   "source": [
    "##\n",
    "## AdaBoost Classifier"
   ]
  },
  {
   "cell_type": "code",
   "execution_count": 19,
   "metadata": {
    "executionInfo": {
     "elapsed": 8,
     "status": "ok",
     "timestamp": 1722108769284,
     "user": {
      "displayName": "Jada",
      "userId": "13373990166318476339"
     },
     "user_tz": -330
    },
    "id": "BiCmz2PRIQiL"
   },
   "outputs": [],
   "source": [
    "from sklearn.ensemble import AdaBoostClassifier as hosp_mrt_adst"
   ]
  },
  {
   "cell_type": "code",
   "execution_count": 20,
   "metadata": {
    "colab": {
     "base_uri": "https://localhost:8080/"
    },
    "executionInfo": {
     "elapsed": 11832,
     "status": "ok",
     "timestamp": 1722108781108,
     "user": {
      "displayName": "Jada",
      "userId": "13373990166318476339"
     },
     "user_tz": -330
    },
    "id": "4VZgy3EN-El8",
    "outputId": "f529a5fa-f907-41d8-fbad-e22cc2c893c9"
   },
   "outputs": [
    {
     "name": "stdout",
     "output_type": "stream",
     "text": [
      "Best Parameter {'algorithm': 'SAMME', 'learning_rate': 1.0, 'n_estimators': 100}\n"
     ]
    }
   ],
   "source": [
    "clapam_gid_ab = {\n",
    "    'n_estimators': [50, 100],\n",
    "    'learning_rate': [0.1, 0.5, 1.0],\n",
    "    'algorithm': ['SAMME', 'SAMME.R']\n",
    "}\n",
    "cla_gid_sh_ab = cla_imbgdrc(estimator=hosp_mrt_adst(), param_grid=clapam_gid_ab, cv=5)\n",
    "cla_gid_sh_ab.fit(cla_imb_XPtr, cla_imb_YQtr)\n",
    "print(\"Best Parameter\",cla_gid_sh_ab.best_params_)\n",
    "cla_ab_modl = cla_gid_sh_ab.best_estimator_"
   ]
  },
  {
   "cell_type": "code",
   "execution_count": 21,
   "metadata": {
    "colab": {
     "base_uri": "https://localhost:8080/",
     "height": 715
    },
    "executionInfo": {
     "elapsed": 13,
     "status": "ok",
     "timestamp": 1722108781108,
     "user": {
      "displayName": "Jada",
      "userId": "13373990166318476339"
     },
     "user_tz": -330
    },
    "id": "N-h0xTon-EbL",
    "outputId": "1ebf6289-c03e-4913-a452-9e007bfd4c8a"
   },
   "outputs": [
    {
     "name": "stdout",
     "output_type": "stream",
     "text": [
      "**************classification report for validation data*****************\n",
      "              precision    recall  f1-score   support\n",
      "\n",
      "           0       0.33      1.00      0.50         2\n",
      "           1       0.00      0.00      0.00         4\n",
      "           2       1.00      1.00      1.00         3\n",
      "           3       0.75      1.00      0.86         3\n",
      "           4       1.00      0.75      0.86         4\n",
      "\n",
      "    accuracy                           0.69        16\n",
      "   macro avg       0.62      0.75      0.64        16\n",
      "weighted avg       0.62      0.69      0.62        16\n",
      "\n",
      "**************confusion matrix for validation data*****************\n"
     ]
    },
    {
     "data": {
      "text/plain": [
       "<sklearn.metrics._plot.confusion_matrix.ConfusionMatrixDisplay at 0x787014d098d0>"
      ]
     },
     "execution_count": 21,
     "metadata": {},
     "output_type": "execute_result"
    },
    {
     "data": {
      "image/png": "[encoded data removed]",
      "text/plain": [
       "<Figure size 640x480 with 2 Axes>"
      ]
     },
     "metadata": {},
     "output_type": "display_data"
    }
   ],
   "source": [
    "\n",
    "drug_pdt_val = cla_ab_modl.predict(cla_imb_XPva)\n",
    "print(\"**************classification report for validation data*****************\")\n",
    "print(cla_imbcfc(cla_imb_YQva, drug_pdt_val))\n",
    "print(\"**************confusion matrix for validation data*****************\")\n",
    "cm_val = cla_imbcom(cla_imb_YQva, drug_pdt_val)\n",
    "disp_val = cla_imbcmdi(confusion_matrix=cm_val, display_labels=[0, 1, 2, 3, 4])\n",
    "disp_val.plot(cmap = 'summer')"
   ]
  },
  {
   "cell_type": "code",
   "execution_count": 22,
   "metadata": {
    "colab": {
     "base_uri": "https://localhost:8080/",
     "height": 715
    },
    "executionInfo": {
     "elapsed": 751,
     "status": "ok",
     "timestamp": 1722108781849,
     "user": {
      "displayName": "Jada",
      "userId": "13373990166318476339"
     },
     "user_tz": -330
    },
    "id": "nL67yzs1-gJz",
    "outputId": "42e2cd4e-f424-490a-c254-2f3057b86134"
   },
   "outputs": [
    {
     "name": "stdout",
     "output_type": "stream",
     "text": [
      "**************classification report for testing data*****************\n",
      "              precision    recall  f1-score   support\n",
      "\n",
      "           0       0.80      1.00      0.89         4\n",
      "           1       0.00      0.00      0.00         1\n",
      "           2       0.50      1.00      0.67         3\n",
      "           3       1.00      0.40      0.57         5\n",
      "           4       1.00      1.00      1.00         3\n",
      "\n",
      "    accuracy                           0.75        16\n",
      "   macro avg       0.66      0.68      0.63        16\n",
      "weighted avg       0.79      0.75      0.71        16\n",
      "\n",
      "**************confusion matrix for testing data*****************\n"
     ]
    },
    {
     "data": {
      "text/plain": [
       "<sklearn.metrics._plot.confusion_matrix.ConfusionMatrixDisplay at 0x787014e2fd00>"
      ]
     },
     "execution_count": 22,
     "metadata": {},
     "output_type": "execute_result"
    },
    {
     "data": {
      "image/png": "[encoded data removed]",
      "text/plain": [
       "<Figure size 640x480 with 2 Axes>"
      ]
     },
     "metadata": {},
     "output_type": "display_data"
    }
   ],
   "source": [
    "\n",
    "drug_pred_test = cla_ab_modl.predict(cla_imb_XPte)\n",
    "print(\"**************classification report for testing data*****************\")\n",
    "print(cla_imbcfc(cla_imb_YQte, drug_pred_test))\n",
    "print(\"**************confusion matrix for testing data*****************\")\n",
    "cm_test = cla_imbcom(cla_imb_YQte, drug_pred_test)\n",
    "disp_test = cla_imbcmdi(confusion_matrix=cm_test, display_labels=[0, 1, 2, 3, 4])\n",
    "disp_test.plot(cmap = 'summer')"
   ]
  },
  {
   "cell_type": "markdown",
   "metadata": {
    "id": "PxxeN4D2MiGu"
   },
   "source": [
    "#### Bagging Classifier"
   ]
  },
  {
   "cell_type": "code",
   "execution_count": 23,
   "metadata": {
    "executionInfo": {
     "elapsed": 8,
     "status": "ok",
     "timestamp": 1722108781849,
     "user": {
      "displayName": "Jada",
      "userId": "13373990166318476339"
     },
     "user_tz": -330
    },
    "id": "P-AmhuqaMmpt"
   },
   "outputs": [],
   "source": [
    "from sklearn.ensemble import BaggingClassifier as hosp_mrt_bags"
   ]
  },
  {
   "cell_type": "code",
   "execution_count": 24,
   "metadata": {
    "colab": {
     "base_uri": "https://localhost:8080/"
    },
    "executionInfo": {
     "elapsed": 13256,
     "status": "ok",
     "timestamp": 1722108795098,
     "user": {
      "displayName": "Jada",
      "userId": "13373990166318476339"
     },
     "user_tz": -330
    },
    "id": "GzxC-007-1Ml",
    "outputId": "5cedfe11-4d79-4997-b2d0-275ea83d93be"
   },
   "outputs": [
    {
     "name": "stdout",
     "output_type": "stream",
     "text": [
      "Best Parameter {'bootstrap': True, 'bootstrap_features': False, 'max_features': 0.8, 'max_samples': 0.8, 'n_estimators': 50}\n"
     ]
    }
   ],
   "source": [
    "cla_pam_gid_bg = {\n",
    "    'n_estimators': [10, 50],\n",
    "    'max_samples': [0.5, 0.8],\n",
    "    'max_features': [0.5, 0.8],\n",
    "    'bootstrap': [True, False],\n",
    "    'bootstrap_features': [True, False]\n",
    "}\n",
    "cla_gid_sh_bg = cla_imbgdrc(estimator=hosp_mrt_bags(), param_grid=cla_pam_gid_bg, cv=5)\n",
    "cla_gid_sh_bg.fit(cla_imb_XPtr, cla_imb_YQtr)\n",
    "print(\"Best Parameter\",cla_gid_sh_bg.best_params_)\n",
    "clabg_mdl = cla_gid_sh_bg.best_estimator_"
   ]
  },
  {
   "cell_type": "code",
   "execution_count": 25,
   "metadata": {
    "colab": {
     "base_uri": "https://localhost:8080/",
     "height": 715
    },
    "executionInfo": {
     "elapsed": 865,
     "status": "ok",
     "timestamp": 1722108795957,
     "user": {
      "displayName": "Jada",
      "userId": "13373990166318476339"
     },
     "user_tz": -330
    },
    "id": "yeZwSZUd-1Jj",
    "outputId": "75b1090f-a3a3-4051-f853-d97d53bdd8f3"
   },
   "outputs": [
    {
     "name": "stdout",
     "output_type": "stream",
     "text": [
      "**************classification report for validation data*****************\n",
      "              precision    recall  f1-score   support\n",
      "\n",
      "           0       0.67      1.00      0.80         2\n",
      "           1       1.00      0.75      0.86         4\n",
      "           2       1.00      1.00      1.00         3\n",
      "           3       1.00      1.00      1.00         3\n",
      "           4       1.00      1.00      1.00         4\n",
      "\n",
      "    accuracy                           0.94        16\n",
      "   macro avg       0.93      0.95      0.93        16\n",
      "weighted avg       0.96      0.94      0.94        16\n",
      "\n",
      "**************confusion matrix for validation data*****************\n"
     ]
    },
    {
     "data": {
      "text/plain": [
       "<sklearn.metrics._plot.confusion_matrix.ConfusionMatrixDisplay at 0x787014c34eb0>"
      ]
     },
     "execution_count": 25,
     "metadata": {},
     "output_type": "execute_result"
    },
    {
     "data": {
      "image/png": "[encoded data removed]",
      "text/plain": [
       "<Figure size 640x480 with 2 Axes>"
      ]
     },
     "metadata": {},
     "output_type": "display_data"
    }
   ],
   "source": [
    "\n",
    "drug_pdt_val = clabg_mdl.predict(cla_imb_XPva)\n",
    "print(\"**************classification report for validation data*****************\")\n",
    "print(cla_imbcfc(cla_imb_YQva, drug_pdt_val))\n",
    "print(\"**************confusion matrix for validation data*****************\")\n",
    "cm_val = cla_imbcom(cla_imb_YQva, drug_pdt_val)\n",
    "disp_val = cla_imbcmdi(confusion_matrix=cm_val, display_labels=[0, 1, 2, 3, 4])\n",
    "disp_val.plot(cmap = 'summer')"
   ]
  },
  {
   "cell_type": "code",
   "execution_count": 26,
   "metadata": {
    "colab": {
     "base_uri": "https://localhost:8080/",
     "height": 715
    },
    "executionInfo": {
     "elapsed": 13,
     "status": "ok",
     "timestamp": 1722108795958,
     "user": {
      "displayName": "Jada",
      "userId": "13373990166318476339"
     },
     "user_tz": -330
    },
    "id": "SJ-4OGXI_F6T",
    "outputId": "c103430f-d7f9-4dfe-87ec-5ea3207e2d7c"
   },
   "outputs": [
    {
     "name": "stdout",
     "output_type": "stream",
     "text": [
      "**************classification report for testing data*****************\n",
      "              precision    recall  f1-score   support\n",
      "\n",
      "           0       1.00      1.00      1.00         4\n",
      "           1       1.00      1.00      1.00         1\n",
      "           2       1.00      1.00      1.00         3\n",
      "           3       1.00      1.00      1.00         5\n",
      "           4       1.00      1.00      1.00         3\n",
      "\n",
      "    accuracy                           1.00        16\n",
      "   macro avg       1.00      1.00      1.00        16\n",
      "weighted avg       1.00      1.00      1.00        16\n",
      "\n",
      "**************confusion matrix for testing data*****************\n"
     ]
    },
    {
     "data": {
      "text/plain": [
       "<sklearn.metrics._plot.confusion_matrix.ConfusionMatrixDisplay at 0x787014a36110>"
      ]
     },
     "execution_count": 26,
     "metadata": {},
     "output_type": "execute_result"
    },
    {
     "data": {
      "image/png": "[encoded data removed]",
      "text/plain": [
       "<Figure size 640x480 with 2 Axes>"
      ]
     },
     "metadata": {},
     "output_type": "display_data"
    }
   ],
   "source": [
    "\n",
    "drug_pred_test = clabg_mdl.predict(cla_imb_XPte)\n",
    "print(\"**************classification report for testing data*****************\")\n",
    "print(cla_imbcfc(cla_imb_YQte, drug_pred_test))\n",
    "print(\"**************confusion matrix for testing data*****************\")\n",
    "cm_test = cla_imbcom(cla_imb_YQte, drug_pred_test)\n",
    "disp_test = cla_imbcmdi(confusion_matrix=cm_test, display_labels=[0, 1, 2, 3, 4])\n",
    "disp_test.plot(cmap = 'summer')"
   ]
  },
  {
   "cell_type": "markdown",
   "metadata": {
    "id": "yBxnnkWWN1zx"
   },
   "source": [
    "### Naive Bayes classifiers"
   ]
  },
  {
   "cell_type": "markdown",
   "metadata": {
    "id": "mzKizG47N8RJ"
   },
   "source": [
    "#### BernoulliNB"
   ]
  },
  {
   "cell_type": "code",
   "execution_count": 27,
   "metadata": {
    "executionInfo": {
     "elapsed": 10,
     "status": "ok",
     "timestamp": 1722108795958,
     "user": {
      "displayName": "Jada",
      "userId": "13373990166318476339"
     },
     "user_tz": -330
    },
    "id": "96RTjwQZN_9Y"
   },
   "outputs": [],
   "source": [
    "from sklearn.naive_bayes import BernoulliNB as hosp_mrt_beru"
   ]
  },
  {
   "cell_type": "code",
   "execution_count": 28,
   "metadata": {
    "colab": {
     "base_uri": "https://localhost:8080/"
    },
    "executionInfo": {
     "elapsed": 10,
     "status": "ok",
     "timestamp": 1722108795958,
     "user": {
      "displayName": "Jada",
      "userId": "13373990166318476339"
     },
     "user_tz": -330
    },
    "id": "K4aCgQkC_XdH",
    "outputId": "ec3f69e7-12fe-4697-8193-e4b17291e74d"
   },
   "outputs": [
    {
     "name": "stdout",
     "output_type": "stream",
     "text": [
      "Best Parameter {'alpha': 0.0, 'fit_prior': True}\n"
     ]
    }
   ],
   "source": [
    "cla_pam_gid_bnb = {\n",
    "    'alpha': [0.0, 0.5, 1.0, 2.0],\n",
    "    'fit_prior': [True, False]\n",
    "}\n",
    "cla_pam_gid_sh = cla_imbgdrc(estimator=hosp_mrt_beru(), param_grid=cla_pam_gid_bnb, cv=5)\n",
    "cla_pam_gid_sh.fit(cla_imb_XPtr, cla_imb_YQtr)\n",
    "print(\"Best Parameter\",cla_pam_gid_sh.best_params_)\n",
    "cla_bnb_mdl = cla_pam_gid_sh.best_estimator_"
   ]
  },
  {
   "cell_type": "code",
   "execution_count": 29,
   "metadata": {
    "colab": {
     "base_uri": "https://localhost:8080/",
     "height": 715
    },
    "executionInfo": {
     "elapsed": 14,
     "status": "ok",
     "timestamp": 1722108796819,
     "user": {
      "displayName": "Jada",
      "userId": "13373990166318476339"
     },
     "user_tz": -330
    },
    "id": "dfP5nsIb_XZz",
    "outputId": "47a44de9-1be1-482c-b5ea-a20d7459dc60"
   },
   "outputs": [
    {
     "name": "stdout",
     "output_type": "stream",
     "text": [
      "**************classification report for validation data*****************\n",
      "              precision    recall  f1-score   support\n",
      "\n",
      "           0       0.00      0.00      0.00         2\n",
      "           1       0.00      0.00      0.00         4\n",
      "           2       0.33      1.00      0.50         3\n",
      "           3       1.00      0.33      0.50         3\n",
      "           4       0.00      0.00      0.00         4\n",
      "\n",
      "    accuracy                           0.25        16\n",
      "   macro avg       0.27      0.27      0.20        16\n",
      "weighted avg       0.25      0.25      0.19        16\n",
      "\n",
      "**************confusion matrix for validation data*****************\n"
     ]
    },
    {
     "data": {
      "text/plain": [
       "<sklearn.metrics._plot.confusion_matrix.ConfusionMatrixDisplay at 0x787014913df0>"
      ]
     },
     "execution_count": 29,
     "metadata": {},
     "output_type": "execute_result"
    },
    {
     "data": {
      "image/png": "[encoded data removed]",
      "text/plain": [
       "<Figure size 640x480 with 2 Axes>"
      ]
     },
     "metadata": {},
     "output_type": "display_data"
    }
   ],
   "source": [
    "\n",
    "drug_pdt_val = cla_bnb_mdl.predict(cla_imb_XPva)\n",
    "print(\"**************classification report for validation data*****************\")\n",
    "print(cla_imbcfc(cla_imb_YQva, drug_pdt_val))\n",
    "print(\"**************confusion matrix for validation data*****************\")\n",
    "cm_val = cla_imbcom(cla_imb_YQva, drug_pdt_val)\n",
    "disp_val = cla_imbcmdi(confusion_matrix=cm_val, display_labels=[0, 1, 2, 3, 4])\n",
    "disp_val.plot(cmap = 'summer')"
   ]
  },
  {
   "cell_type": "code",
   "execution_count": 30,
   "metadata": {
    "colab": {
     "base_uri": "https://localhost:8080/",
     "height": 715
    },
    "executionInfo": {
     "elapsed": 11,
     "status": "ok",
     "timestamp": 1722108796819,
     "user": {
      "displayName": "Jada",
      "userId": "13373990166318476339"
     },
     "user_tz": -330
    },
    "id": "QpK8RsIS_XWq",
    "outputId": "bfd1fdd5-6efb-48b0-c1f2-8701918bd95c"
   },
   "outputs": [
    {
     "name": "stdout",
     "output_type": "stream",
     "text": [
      "**************classification report for testing data*****************\n",
      "              precision    recall  f1-score   support\n",
      "\n",
      "           0       0.60      0.75      0.67         4\n",
      "           1       0.00      0.00      0.00         1\n",
      "           2       0.75      1.00      0.86         3\n",
      "           3       1.00      0.80      0.89         5\n",
      "           4       0.00      0.00      0.00         3\n",
      "\n",
      "    accuracy                           0.62        16\n",
      "   macro avg       0.47      0.51      0.48        16\n",
      "weighted avg       0.60      0.62      0.61        16\n",
      "\n",
      "**************confusion matrix for testing data*****************\n"
     ]
    },
    {
     "data": {
      "text/plain": [
       "<sklearn.metrics._plot.confusion_matrix.ConfusionMatrixDisplay at 0x787014817ca0>"
      ]
     },
     "execution_count": 30,
     "metadata": {},
     "output_type": "execute_result"
    },
    {
     "data": {
      "image/png": "[encoded data removed]",
      "text/plain": [
       "<Figure size 640x480 with 2 Axes>"
      ]
     },
     "metadata": {},
     "output_type": "display_data"
    }
   ],
   "source": [
    "\n",
    "drug_pred_test = cla_bnb_mdl.predict(cla_imb_XPte)\n",
    "print(\"**************classification report for testing data*****************\")\n",
    "print(cla_imbcfc(cla_imb_YQte, drug_pred_test))\n",
    "print(\"**************confusion matrix for testing data*****************\")\n",
    "cm_test = cla_imbcom(cla_imb_YQte, drug_pred_test)\n",
    "disp_test = cla_imbcmdi(confusion_matrix=cm_test, display_labels=[0, 1, 2, 3, 4])\n",
    "disp_test.plot(cmap = 'summer')"
   ]
  },
  {
   "cell_type": "markdown",
   "metadata": {
    "id": "VRa3B8T4PPT6"
   },
   "source": [
    "#### GaussianNB"
   ]
  },
  {
   "cell_type": "code",
   "execution_count": 31,
   "metadata": {
    "executionInfo": {
     "elapsed": 10,
     "status": "ok",
     "timestamp": 1722108796819,
     "user": {
      "displayName": "Jada",
      "userId": "13373990166318476339"
     },
     "user_tz": -330
    },
    "id": "OOY6IfJhPUEt"
   },
   "outputs": [],
   "source": [
    "from sklearn.naive_bayes import GaussianNB as hosp_mrt_gus"
   ]
  },
  {
   "cell_type": "code",
   "execution_count": 32,
   "metadata": {
    "colab": {
     "base_uri": "https://localhost:8080/"
    },
    "executionInfo": {
     "elapsed": 769,
     "status": "ok",
     "timestamp": 1722108797578,
     "user": {
      "displayName": "Jada",
      "userId": "13373990166318476339"
     },
     "user_tz": -330
    },
    "id": "o2aktxdS_779",
    "outputId": "772ea25e-125d-42b1-fdec-e821714f507d"
   },
   "outputs": [
    {
     "name": "stdout",
     "output_type": "stream",
     "text": [
      "Best Parameter {'var_smoothing': 1e-07}\n"
     ]
    }
   ],
   "source": [
    "cla_pam_gid = {\n",
    "    'var_smoothing': [1e-9, 1e-8, 1e-7, 1e-6, 1e-5]\n",
    "}\n",
    "cla_pam_gid_sh = cla_imbgdrc(estimator=hosp_mrt_gus(), param_grid=cla_pam_gid, cv=5)\n",
    "cla_pam_gid_sh.fit(cla_imb_XPtr, cla_imb_YQtr)\n",
    "print(\"Best Parameter\",cla_pam_gid_sh.best_params_)\n",
    "mdl_gnb = cla_pam_gid_sh.best_estimator_"
   ]
  },
  {
   "cell_type": "code",
   "execution_count": 33,
   "metadata": {
    "colab": {
     "base_uri": "https://localhost:8080/",
     "height": 715
    },
    "executionInfo": {
     "elapsed": 16,
     "status": "ok",
     "timestamp": 1722108797579,
     "user": {
      "displayName": "Jada",
      "userId": "13373990166318476339"
     },
     "user_tz": -330
    },
    "id": "y36EQ93t_71p",
    "outputId": "9c961edd-663b-4fe8-e336-41c4451aeb9c"
   },
   "outputs": [
    {
     "name": "stdout",
     "output_type": "stream",
     "text": [
      "**************classification report for validation data*****************\n",
      "              precision    recall  f1-score   support\n",
      "\n",
      "           0       0.67      1.00      0.80         2\n",
      "           1       1.00      0.75      0.86         4\n",
      "           2       0.60      1.00      0.75         3\n",
      "           3       1.00      1.00      1.00         3\n",
      "           4       1.00      0.50      0.67         4\n",
      "\n",
      "    accuracy                           0.81        16\n",
      "   macro avg       0.85      0.85      0.81        16\n",
      "weighted avg       0.88      0.81      0.81        16\n",
      "\n",
      "**************confusion matrix for validation data*****************\n"
     ]
    },
    {
     "data": {
      "text/plain": [
       "<sklearn.metrics._plot.confusion_matrix.ConfusionMatrixDisplay at 0x787014716e30>"
      ]
     },
     "execution_count": 33,
     "metadata": {},
     "output_type": "execute_result"
    },
    {
     "data": {
      "image/png": "[encoded data removed]",
      "text/plain": [
       "<Figure size 640x480 with 2 Axes>"
      ]
     },
     "metadata": {},
     "output_type": "display_data"
    }
   ],
   "source": [
    "\n",
    "drug_pdt_val = mdl_gnb.predict(cla_imb_XPva)\n",
    "print(\"**************classification report for validation data*****************\")\n",
    "print(cla_imbcfc(cla_imb_YQva, drug_pdt_val))\n",
    "print(\"**************confusion matrix for validation data*****************\")\n",
    "cm_val = cla_imbcom(cla_imb_YQva, drug_pdt_val)\n",
    "disp_val = cla_imbcmdi(confusion_matrix=cm_val, display_labels=[0, 1, 2, 3, 4])\n",
    "disp_val.plot(cmap = 'summer')"
   ]
  },
  {
   "cell_type": "code",
   "execution_count": 34,
   "metadata": {
    "colab": {
     "base_uri": "https://localhost:8080/",
     "height": 715
    },
    "executionInfo": {
     "elapsed": 14,
     "status": "ok",
     "timestamp": 1722108797579,
     "user": {
      "displayName": "Jada",
      "userId": "13373990166318476339"
     },
     "user_tz": -330
    },
    "id": "SQM_6_8mASjv",
    "outputId": "9c9a9ecd-02b5-4104-b79e-9c28a7769e9b"
   },
   "outputs": [
    {
     "name": "stdout",
     "output_type": "stream",
     "text": [
      "**************classification report for testing data*****************\n",
      "              precision    recall  f1-score   support\n",
      "\n",
      "           0       0.80      1.00      0.89         4\n",
      "           1       1.00      1.00      1.00         1\n",
      "           2       1.00      1.00      1.00         3\n",
      "           3       1.00      1.00      1.00         5\n",
      "           4       1.00      0.67      0.80         3\n",
      "\n",
      "    accuracy                           0.94        16\n",
      "   macro avg       0.96      0.93      0.94        16\n",
      "weighted avg       0.95      0.94      0.93        16\n",
      "\n",
      "**************confusion matrix for testing data*****************\n"
     ]
    },
    {
     "data": {
      "text/plain": [
       "<sklearn.metrics._plot.confusion_matrix.ConfusionMatrixDisplay at 0x7870145ca260>"
      ]
     },
     "execution_count": 34,
     "metadata": {},
     "output_type": "execute_result"
    },
    {
     "data": {
      "image/png": "[encoded data removed]",
      "text/plain": [
       "<Figure size 640x480 with 2 Axes>"
      ]
     },
     "metadata": {},
     "output_type": "display_data"
    }
   ],
   "source": [
    "\n",
    "drug_pred_test = mdl_gnb.predict(cla_imb_XPte)\n",
    "print(\"**************classification report for testing data*****************\")\n",
    "print(cla_imbcfc(cla_imb_YQte, drug_pred_test))\n",
    "print(\"**************confusion matrix for testing data*****************\")\n",
    "cm_test = cla_imbcom(cla_imb_YQte, drug_pred_test)\n",
    "disp_test = cla_imbcmdi(confusion_matrix=cm_test, display_labels=[0, 1, 2, 3, 4])\n",
    "disp_test.plot(cmap = 'summer')"
   ]
  },
  {
   "cell_type": "code",
   "execution_count": 34,
   "metadata": {
    "executionInfo": {
     "elapsed": 12,
     "status": "ok",
     "timestamp": 1722108797579,
     "user": {
      "displayName": "Jada",
      "userId": "13373990166318476339"
     },
     "user_tz": -330
    },
    "id": "TozTnCyAAXHY"
   },
   "outputs": [],
   "source": []
  }
 ],
 "metadata": {
  "colab": {
   "provenance": []
  },
  "kernelspec": {
   "display_name": "Python 3 (ipykernel)",
   "language": "python",
   "name": "python3"
  },
  "language_info": {
   "codemirror_mode": {
    "name": "ipython",
    "version": 3
   },
   "file_extension": ".py",
   "mimetype": "text/x-python",
   "name": "python",
   "nbconvert_exporter": "python",
   "pygments_lexer": "ipython3",
   "version": "3.12.4"
  }
 },
 "nbformat": 4,
 "nbformat_minor": 4
}
