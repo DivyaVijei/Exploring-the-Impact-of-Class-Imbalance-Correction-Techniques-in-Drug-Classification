{
 "cells": [
  {
   "cell_type": "code",
   "execution_count": 6,
   "metadata": {
    "colab": {
     "base_uri": "https://localhost:8080/",
     "height": 424
    },
    "executionInfo": {
     "elapsed": 420,
     "status": "ok",
     "timestamp": 1722108396115,
     "user": {
      "displayName": "Jada",
      "userId": "13373990166318476339"
     },
     "user_tz": -330
    },
    "id": "xfYOqmwN8m_A",
    "outputId": "59a82ac2-5b31-48a2-b3bb-d03d1f071bd8"
   },
   "outputs": [
    {
     "data": {
      "application/vnd.google.colaboratory.intrinsic+json": {
       "summary": "{\n  \"name\": \"cla_imb\",\n  \"rows\": 200,\n  \"fields\": [\n    {\n      \"column\": \"Age\",\n      \"properties\": {\n        \"dtype\": \"number\",\n        \"std\": 16,\n        \"min\": 15,\n        \"max\": 74,\n        \"num_unique_values\": 57,\n        \"samples\": [\n          23,\n          49,\n          37\n        ],\n        \"semantic_type\": \"\",\n        \"description\": \"\"\n      }\n    },\n    {\n      \"column\": \"Sex\",\n      \"properties\": {\n        \"dtype\": \"number\",\n        \"std\": 0,\n        \"min\": 0,\n        \"max\": 1,\n        \"num_unique_values\": 2,\n        \"samples\": [\n          1,\n          0\n        ],\n        \"semantic_type\": \"\",\n        \"description\": \"\"\n      }\n    },\n    {\n      \"column\": \"BP\",\n      \"properties\": {\n        \"dtype\": \"number\",\n        \"std\": 0,\n        \"min\": 0,\n        \"max\": 2,\n        \"num_unique_values\": 3,\n        \"samples\": [\n          0,\n          1\n        ],\n        \"semantic_type\": \"\",\n        \"description\": \"\"\n      }\n    },\n    {\n      \"column\": \"Cholesterol\",\n      \"properties\": {\n        \"dtype\": \"number\",\n        \"std\": 0,\n        \"min\": 0,\n        \"max\": 1,\n        \"num_unique_values\": 2,\n        \"samples\": [\n          1,\n          0\n        ],\n        \"semantic_type\": \"\",\n        \"description\": \"\"\n      }\n    },\n    {\n      \"column\": \"Na_to_K\",\n      \"properties\": {\n        \"dtype\": \"number\",\n        \"std\": 7.223955528459516,\n        \"min\": 6.269,\n        \"max\": 38.247,\n        \"num_unique_values\": 198,\n        \"samples\": [\n          27.05,\n          9.281\n        ],\n        \"semantic_type\": \"\",\n        \"description\": \"\"\n      }\n    },\n    {\n      \"column\": \"Drug\",\n      \"properties\": {\n        \"dtype\": \"number\",\n        \"std\": 1,\n        \"min\": 0,\n        \"max\": 4,\n        \"num_unique_values\": 5,\n        \"samples\": [\n          2,\n          1\n        ],\n        \"semantic_type\": \"\",\n        \"description\": \"\"\n      }\n    }\n  ]\n}",
       "type": "dataframe",
       "variable_name": "cla_imb"
      },
      "text/html": [
       "\n",
       "  <div id=\"df-45971378-020b-41fb-81ea-f5aec023b544\" class=\"colab-df-container\">\n",
       "    <div>\n",
       "<style scoped>\n",
       "    .dataframe tbody tr th:only-of-type {\n",
       "        vertical-align: middle;\n",
       "    }\n",
       "\n",
       "    .dataframe tbody tr th {\n",
       "        vertical-align: top;\n",
       "    }\n",
       "\n",
       "    .dataframe thead th {\n",
       "        text-align: right;\n",
       "    }\n",
       "</style>\n",
       "<table border=\"1\" class=\"dataframe\">\n",
       "  <thead>\n",
       "    <tr style=\"text-align: right;\">\n",
       "      <th></th>\n",
       "      <th>Age</th>\n",
       "      <th>Sex</th>\n",
       "      <th>BP</th>\n",
       "      <th>Cholesterol</th>\n",
       "      <th>Na_to_K</th>\n",
       "      <th>Drug</th>\n",
       "    </tr>\n",
       "  </thead>\n",
       "  <tbody>\n",
       "    <tr>\n",
       "      <th>0</th>\n",
       "      <td>23</td>\n",
       "      <td>0</td>\n",
       "      <td>0</td>\n",
       "      <td>0</td>\n",
       "      <td>25.355</td>\n",
       "      <td>4</td>\n",
       "    </tr>\n",
       "    <tr>\n",
       "      <th>1</th>\n",
       "      <td>47</td>\n",
       "      <td>1</td>\n",
       "      <td>1</td>\n",
       "      <td>0</td>\n",
       "      <td>13.093</td>\n",
       "      <td>2</td>\n",
       "    </tr>\n",
       "    <tr>\n",
       "      <th>2</th>\n",
       "      <td>47</td>\n",
       "      <td>1</td>\n",
       "      <td>1</td>\n",
       "      <td>0</td>\n",
       "      <td>10.114</td>\n",
       "      <td>2</td>\n",
       "    </tr>\n",
       "    <tr>\n",
       "      <th>3</th>\n",
       "      <td>28</td>\n",
       "      <td>0</td>\n",
       "      <td>2</td>\n",
       "      <td>0</td>\n",
       "      <td>7.798</td>\n",
       "      <td>3</td>\n",
       "    </tr>\n",
       "    <tr>\n",
       "      <th>4</th>\n",
       "      <td>61</td>\n",
       "      <td>0</td>\n",
       "      <td>1</td>\n",
       "      <td>0</td>\n",
       "      <td>18.043</td>\n",
       "      <td>4</td>\n",
       "    </tr>\n",
       "    <tr>\n",
       "      <th>...</th>\n",
       "      <td>...</td>\n",
       "      <td>...</td>\n",
       "      <td>...</td>\n",
       "      <td>...</td>\n",
       "      <td>...</td>\n",
       "      <td>...</td>\n",
       "    </tr>\n",
       "    <tr>\n",
       "      <th>195</th>\n",
       "      <td>56</td>\n",
       "      <td>0</td>\n",
       "      <td>1</td>\n",
       "      <td>0</td>\n",
       "      <td>11.567</td>\n",
       "      <td>2</td>\n",
       "    </tr>\n",
       "    <tr>\n",
       "      <th>196</th>\n",
       "      <td>16</td>\n",
       "      <td>1</td>\n",
       "      <td>1</td>\n",
       "      <td>0</td>\n",
       "      <td>12.006</td>\n",
       "      <td>2</td>\n",
       "    </tr>\n",
       "    <tr>\n",
       "      <th>197</th>\n",
       "      <td>52</td>\n",
       "      <td>1</td>\n",
       "      <td>2</td>\n",
       "      <td>0</td>\n",
       "      <td>9.894</td>\n",
       "      <td>3</td>\n",
       "    </tr>\n",
       "    <tr>\n",
       "      <th>198</th>\n",
       "      <td>23</td>\n",
       "      <td>1</td>\n",
       "      <td>2</td>\n",
       "      <td>1</td>\n",
       "      <td>14.020</td>\n",
       "      <td>3</td>\n",
       "    </tr>\n",
       "    <tr>\n",
       "      <th>199</th>\n",
       "      <td>40</td>\n",
       "      <td>0</td>\n",
       "      <td>1</td>\n",
       "      <td>1</td>\n",
       "      <td>11.349</td>\n",
       "      <td>3</td>\n",
       "    </tr>\n",
       "  </tbody>\n",
       "</table>\n",
       "<p>200 rows × 6 columns</p>\n",
       "</div>\n",
       "    <div class=\"colab-df-buttons\">\n",
       "\n",
       "  <div class=\"colab-df-container\">\n",
       "    <button class=\"colab-df-convert\" onclick=\"convertToInteractive('df-45971378-020b-41fb-81ea-f5aec023b544')\"\n",
       "            title=\"Convert this dataframe to an interactive table.\"\n",
       "            style=\"display:none;\">\n",
       "\n",
       "  <svg xmlns=\"http://www.w3.org/2000/svg\" height=\"24px\" viewBox=\"0 -960 960 960\">\n",
       "    <path d=\"M120-120v-720h720v720H120Zm60-500h600v-160H180v160Zm220 220h160v-160H400v160Zm0 220h160v-160H400v160ZM180-400h160v-160H180v160Zm440 0h160v-160H620v160ZM180-180h160v-160H180v160Zm440 0h160v-160H620v160Z\"/>\n",
       "  </svg>\n",
       "    </button>\n",
       "\n",
       "  <style>\n",
       "    .colab-df-container {\n",
       "      display:flex;\n",
       "      gap: 12px;\n",
       "    }\n",
       "\n",
       "    .colab-df-convert {\n",
       "      background-color: #E8F0FE;\n",
       "      border: none;\n",
       "      border-radius: 50%;\n",
       "      cursor: pointer;\n",
       "      display: none;\n",
       "      fill: #1967D2;\n",
       "      height: 32px;\n",
       "      padding: 0 0 0 0;\n",
       "      width: 32px;\n",
       "    }\n",
       "\n",
       "    .colab-df-convert:hover {\n",
       "      background-color: #E2EBFA;\n",
       "      box-shadow: 0px 1px 2px rgba(60, 64, 67, 0.3), 0px 1px 3px 1px rgba(60, 64, 67, 0.15);\n",
       "      fill: #174EA6;\n",
       "    }\n",
       "\n",
       "    .colab-df-buttons div {\n",
       "      margin-bottom: 4px;\n",
       "    }\n",
       "\n",
       "    [theme=dark] .colab-df-convert {\n",
       "      background-color: #3B4455;\n",
       "      fill: #D2E3FC;\n",
       "    }\n",
       "\n",
       "    [theme=dark] .colab-df-convert:hover {\n",
       "      background-color: #434B5C;\n",
       "      box-shadow: 0px 1px 3px 1px rgba(0, 0, 0, 0.15);\n",
       "      filter: drop-shadow(0px 1px 2px rgba(0, 0, 0, 0.3));\n",
       "      fill: #FFFFFF;\n",
       "    }\n",
       "  </style>\n",
       "\n",
       "    <script>\n",
       "      const buttonEl =\n",
       "        document.querySelector('#df-45971378-020b-41fb-81ea-f5aec023b544 button.colab-df-convert');\n",
       "      buttonEl.style.display =\n",
       "        google.colab.kernel.accessAllowed ? 'block' : 'none';\n",
       "\n",
       "      async function convertToInteractive(key) {\n",
       "        const element = document.querySelector('#df-45971378-020b-41fb-81ea-f5aec023b544');\n",
       "        const dataTable =\n",
       "          await google.colab.kernel.invokeFunction('convertToInteractive',\n",
       "                                                    [key], {});\n",
       "        if (!dataTable) return;\n",
       "\n",
       "        const docLinkHtml = 'Like what you see? Visit the ' +\n",
       "          '<a target=\"_blank\" href=https://colab.research.google.com/notebooks/data_table.ipynb>data table notebook</a>'\n",
       "          + ' to learn more about interactive tables.';\n",
       "        element.innerHTML = '';\n",
       "        dataTable['output_type'] = 'display_data';\n",
       "        await google.colab.output.renderOutput(dataTable, element);\n",
       "        const docLink = document.createElement('div');\n",
       "        docLink.innerHTML = docLinkHtml;\n",
       "        element.appendChild(docLink);\n",
       "      }\n",
       "    </script>\n",
       "  </div>\n",
       "\n",
       "\n",
       "<div id=\"df-b5036ba0-124a-41b1-b350-d8f5e1c97034\">\n",
       "  <button class=\"colab-df-quickchart\" onclick=\"quickchart('df-b5036ba0-124a-41b1-b350-d8f5e1c97034')\"\n",
       "            title=\"Suggest charts\"\n",
       "            style=\"display:none;\">\n",
       "\n",
       "<svg xmlns=\"http://www.w3.org/2000/svg\" height=\"24px\"viewBox=\"0 0 24 24\"\n",
       "     width=\"24px\">\n",
       "    <g>\n",
       "        <path d=\"M19 3H5c-1.1 0-2 .9-2 2v14c0 1.1.9 2 2 2h14c1.1 0 2-.9 2-2V5c0-1.1-.9-2-2-2zM9 17H7v-7h2v7zm4 0h-2V7h2v10zm4 0h-2v-4h2v4z\"/>\n",
       "    </g>\n",
       "</svg>\n",
       "  </button>\n",
       "\n",
       "<style>\n",
       "  .colab-df-quickchart {\n",
       "      --bg-color: #E8F0FE;\n",
       "      --fill-color: #1967D2;\n",
       "      --hover-bg-color: #E2EBFA;\n",
       "      --hover-fill-color: #174EA6;\n",
       "      --disabled-fill-color: #AAA;\n",
       "      --disabled-bg-color: #DDD;\n",
       "  }\n",
       "\n",
       "  [theme=dark] .colab-df-quickchart {\n",
       "      --bg-color: #3B4455;\n",
       "      --fill-color: #D2E3FC;\n",
       "      --hover-bg-color: #434B5C;\n",
       "      --hover-fill-color: #FFFFFF;\n",
       "      --disabled-bg-color: #3B4455;\n",
       "      --disabled-fill-color: #666;\n",
       "  }\n",
       "\n",
       "  .colab-df-quickchart {\n",
       "    background-color: var(--bg-color);\n",
       "    border: none;\n",
       "    border-radius: 50%;\n",
       "    cursor: pointer;\n",
       "    display: none;\n",
       "    fill: var(--fill-color);\n",
       "    height: 32px;\n",
       "    padding: 0;\n",
       "    width: 32px;\n",
       "  }\n",
       "\n",
       "  .colab-df-quickchart:hover {\n",
       "    background-color: var(--hover-bg-color);\n",
       "    box-shadow: 0 1px 2px rgba(60, 64, 67, 0.3), 0 1px 3px 1px rgba(60, 64, 67, 0.15);\n",
       "    fill: var(--button-hover-fill-color);\n",
       "  }\n",
       "\n",
       "  .colab-df-quickchart-complete:disabled,\n",
       "  .colab-df-quickchart-complete:disabled:hover {\n",
       "    background-color: var(--disabled-bg-color);\n",
       "    fill: var(--disabled-fill-color);\n",
       "    box-shadow: none;\n",
       "  }\n",
       "\n",
       "  .colab-df-spinner {\n",
       "    border: 2px solid var(--fill-color);\n",
       "    border-color: transparent;\n",
       "    border-bottom-color: var(--fill-color);\n",
       "    animation:\n",
       "      spin 1s steps(1) infinite;\n",
       "  }\n",
       "\n",
       "  @keyframes spin {\n",
       "    0% {\n",
       "      border-color: transparent;\n",
       "      border-bottom-color: var(--fill-color);\n",
       "      border-left-color: var(--fill-color);\n",
       "    }\n",
       "    20% {\n",
       "      border-color: transparent;\n",
       "      border-left-color: var(--fill-color);\n",
       "      border-top-color: var(--fill-color);\n",
       "    }\n",
       "    30% {\n",
       "      border-color: transparent;\n",
       "      border-left-color: var(--fill-color);\n",
       "      border-top-color: var(--fill-color);\n",
       "      border-right-color: var(--fill-color);\n",
       "    }\n",
       "    40% {\n",
       "      border-color: transparent;\n",
       "      border-right-color: var(--fill-color);\n",
       "      border-top-color: var(--fill-color);\n",
       "    }\n",
       "    60% {\n",
       "      border-color: transparent;\n",
       "      border-right-color: var(--fill-color);\n",
       "    }\n",
       "    80% {\n",
       "      border-color: transparent;\n",
       "      border-right-color: var(--fill-color);\n",
       "      border-bottom-color: var(--fill-color);\n",
       "    }\n",
       "    90% {\n",
       "      border-color: transparent;\n",
       "      border-bottom-color: var(--fill-color);\n",
       "    }\n",
       "  }\n",
       "</style>\n",
       "\n",
       "  <script>\n",
       "    async function quickchart(key) {\n",
       "      const quickchartButtonEl =\n",
       "        document.querySelector('#' + key + ' button');\n",
       "      quickchartButtonEl.disabled = true;  // To prevent multiple clicks.\n",
       "      quickchartButtonEl.classList.add('colab-df-spinner');\n",
       "      try {\n",
       "        const charts = await google.colab.kernel.invokeFunction(\n",
       "            'suggestCharts', [key], {});\n",
       "      } catch (error) {\n",
       "        console.error('Error during call to suggestCharts:', error);\n",
       "      }\n",
       "      quickchartButtonEl.classList.remove('colab-df-spinner');\n",
       "      quickchartButtonEl.classList.add('colab-df-quickchart-complete');\n",
       "    }\n",
       "    (() => {\n",
       "      let quickchartButtonEl =\n",
       "        document.querySelector('#df-b5036ba0-124a-41b1-b350-d8f5e1c97034 button');\n",
       "      quickchartButtonEl.style.display =\n",
       "        google.colab.kernel.accessAllowed ? 'block' : 'none';\n",
       "    })();\n",
       "  </script>\n",
       "</div>\n",
       "\n",
       "  <div id=\"id_3cff5447-421a-4948-9d4c-7a2d0fb4f90a\">\n",
       "    <style>\n",
       "      .colab-df-generate {\n",
       "        background-color: #E8F0FE;\n",
       "        border: none;\n",
       "        border-radius: 50%;\n",
       "        cursor: pointer;\n",
       "        display: none;\n",
       "        fill: #1967D2;\n",
       "        height: 32px;\n",
       "        padding: 0 0 0 0;\n",
       "        width: 32px;\n",
       "      }\n",
       "\n",
       "      .colab-df-generate:hover {\n",
       "        background-color: #E2EBFA;\n",
       "        box-shadow: 0px 1px 2px rgba(60, 64, 67, 0.3), 0px 1px 3px 1px rgba(60, 64, 67, 0.15);\n",
       "        fill: #174EA6;\n",
       "      }\n",
       "\n",
       "      [theme=dark] .colab-df-generate {\n",
       "        background-color: #3B4455;\n",
       "        fill: #D2E3FC;\n",
       "      }\n",
       "\n",
       "      [theme=dark] .colab-df-generate:hover {\n",
       "        background-color: #434B5C;\n",
       "        box-shadow: 0px 1px 3px 1px rgba(0, 0, 0, 0.15);\n",
       "        filter: drop-shadow(0px 1px 2px rgba(0, 0, 0, 0.3));\n",
       "        fill: #FFFFFF;\n",
       "      }\n",
       "    </style>\n",
       "    <button class=\"colab-df-generate\" onclick=\"generateWithVariable('cla_imb')\"\n",
       "            title=\"Generate code using this dataframe.\"\n",
       "            style=\"display:none;\">\n",
       "\n",
       "  <svg xmlns=\"http://www.w3.org/2000/svg\" height=\"24px\"viewBox=\"0 0 24 24\"\n",
       "       width=\"24px\">\n",
       "    <path d=\"M7,19H8.4L18.45,9,17,7.55,7,17.6ZM5,21V16.75L18.45,3.32a2,2,0,0,1,2.83,0l1.4,1.43a1.91,1.91,0,0,1,.58,1.4,1.91,1.91,0,0,1-.58,1.4L9.25,21ZM18.45,9,17,7.55Zm-12,3A5.31,5.31,0,0,0,4.9,8.1,5.31,5.31,0,0,0,1,6.5,5.31,5.31,0,0,0,4.9,4.9,5.31,5.31,0,0,0,6.5,1,5.31,5.31,0,0,0,8.1,4.9,5.31,5.31,0,0,0,12,6.5,5.46,5.46,0,0,0,6.5,12Z\"/>\n",
       "  </svg>\n",
       "    </button>\n",
       "    <script>\n",
       "      (() => {\n",
       "      const buttonEl =\n",
       "        document.querySelector('#id_3cff5447-421a-4948-9d4c-7a2d0fb4f90a button.colab-df-generate');\n",
       "      buttonEl.style.display =\n",
       "        google.colab.kernel.accessAllowed ? 'block' : 'none';\n",
       "\n",
       "      buttonEl.onclick = () => {\n",
       "        google.colab.notebook.generateWithVariable('cla_imb');\n",
       "      }\n",
       "      })();\n",
       "    </script>\n",
       "  </div>\n",
       "\n",
       "    </div>\n",
       "  </div>\n"
      ],
      "text/plain": [
       "     Age  Sex  BP  Cholesterol  Na_to_K  Drug\n",
       "0     23    0   0            0   25.355     4\n",
       "1     47    1   1            0   13.093     2\n",
       "2     47    1   1            0   10.114     2\n",
       "3     28    0   2            0    7.798     3\n",
       "4     61    0   1            0   18.043     4\n",
       "..   ...  ...  ..          ...      ...   ...\n",
       "195   56    0   1            0   11.567     2\n",
       "196   16    1   1            0   12.006     2\n",
       "197   52    1   2            0    9.894     3\n",
       "198   23    1   2            1   14.020     3\n",
       "199   40    0   1            1   11.349     3\n",
       "\n",
       "[200 rows x 6 columns]"
      ]
     },
     "execution_count": 6,
     "metadata": {},
     "output_type": "execute_result"
    }
   ],
   "source": [
    "import pandas as cla_imbps\n",
    "cla_imb = cla_imbps.read_csv('ppcess_drug200.csv')\n",
    "cla_imb"
   ]
  },
  {
   "cell_type": "code",
   "execution_count": 7,
   "metadata": {
    "colab": {
     "base_uri": "https://localhost:8080/"
    },
    "executionInfo": {
     "elapsed": 523,
     "status": "ok",
     "timestamp": 1722108397163,
     "user": {
      "displayName": "Jada",
      "userId": "13373990166318476339"
     },
     "user_tz": -330
    },
    "id": "inc2ltqTAEXs",
    "outputId": "104337e7-1b19-4bb1-cdc7-30fd9cbcab76"
   },
   "outputs": [
    {
     "data": {
      "text/plain": [
       "Drug\n",
       "4    91\n",
       "3    54\n",
       "0    23\n",
       "2    16\n",
       "1    16\n",
       "Name: count, dtype: int64"
      ]
     },
     "execution_count": 7,
     "metadata": {},
     "output_type": "execute_result"
    }
   ],
   "source": [
    "cla_imb['Drug'].value_counts()"
   ]
  },
  {
   "cell_type": "code",
   "execution_count": 8,
   "metadata": {
    "executionInfo": {
     "elapsed": 19,
     "status": "ok",
     "timestamp": 1722108397163,
     "user": {
      "displayName": "Jada",
      "userId": "13373990166318476339"
     },
     "user_tz": -330
    },
    "id": "k4jfJLlyAJAP"
   },
   "outputs": [],
   "source": [
    "cla_imb_XP = cla_imb.drop('Drug',axis=1)\n",
    "cla_imb_YQ = cla_imb['Drug']"
   ]
  },
  {
   "cell_type": "code",
   "execution_count": 9,
   "metadata": {
    "colab": {
     "base_uri": "https://localhost:8080/",
     "height": 424
    },
    "executionInfo": {
     "elapsed": 19,
     "status": "ok",
     "timestamp": 1722108397163,
     "user": {
      "displayName": "Jada",
      "userId": "13373990166318476339"
     },
     "user_tz": -330
    },
    "id": "0ubu-el1Afw_",
    "outputId": "4d874010-5259-436b-ac2f-f11d8de709cf"
   },
   "outputs": [
    {
     "data": {
      "application/vnd.google.colaboratory.intrinsic+json": {
       "summary": "{\n  \"name\": \"cla_imb_XP\",\n  \"rows\": 200,\n  \"fields\": [\n    {\n      \"column\": \"Age\",\n      \"properties\": {\n        \"dtype\": \"number\",\n        \"std\": 16,\n        \"min\": 15,\n        \"max\": 74,\n        \"num_unique_values\": 57,\n        \"samples\": [\n          23,\n          49,\n          37\n        ],\n        \"semantic_type\": \"\",\n        \"description\": \"\"\n      }\n    },\n    {\n      \"column\": \"Sex\",\n      \"properties\": {\n        \"dtype\": \"number\",\n        \"std\": 0,\n        \"min\": 0,\n        \"max\": 1,\n        \"num_unique_values\": 2,\n        \"samples\": [\n          1,\n          0\n        ],\n        \"semantic_type\": \"\",\n        \"description\": \"\"\n      }\n    },\n    {\n      \"column\": \"BP\",\n      \"properties\": {\n        \"dtype\": \"number\",\n        \"std\": 0,\n        \"min\": 0,\n        \"max\": 2,\n        \"num_unique_values\": 3,\n        \"samples\": [\n          0,\n          1\n        ],\n        \"semantic_type\": \"\",\n        \"description\": \"\"\n      }\n    },\n    {\n      \"column\": \"Cholesterol\",\n      \"properties\": {\n        \"dtype\": \"number\",\n        \"std\": 0,\n        \"min\": 0,\n        \"max\": 1,\n        \"num_unique_values\": 2,\n        \"samples\": [\n          1,\n          0\n        ],\n        \"semantic_type\": \"\",\n        \"description\": \"\"\n      }\n    },\n    {\n      \"column\": \"Na_to_K\",\n      \"properties\": {\n        \"dtype\": \"number\",\n        \"std\": 7.223955528459516,\n        \"min\": 6.269,\n        \"max\": 38.247,\n        \"num_unique_values\": 198,\n        \"samples\": [\n          27.05,\n          9.281\n        ],\n        \"semantic_type\": \"\",\n        \"description\": \"\"\n      }\n    }\n  ]\n}",
       "type": "dataframe",
       "variable_name": "cla_imb_XP"
      },
      "text/html": [
       "\n",
       "  <div id=\"df-b788f677-c14a-4b5a-ba86-dfd46df491fc\" class=\"colab-df-container\">\n",
       "    <div>\n",
       "<style scoped>\n",
       "    .dataframe tbody tr th:only-of-type {\n",
       "        vertical-align: middle;\n",
       "    }\n",
       "\n",
       "    .dataframe tbody tr th {\n",
       "        vertical-align: top;\n",
       "    }\n",
       "\n",
       "    .dataframe thead th {\n",
       "        text-align: right;\n",
       "    }\n",
       "</style>\n",
       "<table border=\"1\" class=\"dataframe\">\n",
       "  <thead>\n",
       "    <tr style=\"text-align: right;\">\n",
       "      <th></th>\n",
       "      <th>Age</th>\n",
       "      <th>Sex</th>\n",
       "      <th>BP</th>\n",
       "      <th>Cholesterol</th>\n",
       "      <th>Na_to_K</th>\n",
       "    </tr>\n",
       "  </thead>\n",
       "  <tbody>\n",
       "    <tr>\n",
       "      <th>0</th>\n",
       "      <td>23</td>\n",
       "      <td>0</td>\n",
       "      <td>0</td>\n",
       "      <td>0</td>\n",
       "      <td>25.355</td>\n",
       "    </tr>\n",
       "    <tr>\n",
       "      <th>1</th>\n",
       "      <td>47</td>\n",
       "      <td>1</td>\n",
       "      <td>1</td>\n",
       "      <td>0</td>\n",
       "      <td>13.093</td>\n",
       "    </tr>\n",
       "    <tr>\n",
       "      <th>2</th>\n",
       "      <td>47</td>\n",
       "      <td>1</td>\n",
       "      <td>1</td>\n",
       "      <td>0</td>\n",
       "      <td>10.114</td>\n",
       "    </tr>\n",
       "    <tr>\n",
       "      <th>3</th>\n",
       "      <td>28</td>\n",
       "      <td>0</td>\n",
       "      <td>2</td>\n",
       "      <td>0</td>\n",
       "      <td>7.798</td>\n",
       "    </tr>\n",
       "    <tr>\n",
       "      <th>4</th>\n",
       "      <td>61</td>\n",
       "      <td>0</td>\n",
       "      <td>1</td>\n",
       "      <td>0</td>\n",
       "      <td>18.043</td>\n",
       "    </tr>\n",
       "    <tr>\n",
       "      <th>...</th>\n",
       "      <td>...</td>\n",
       "      <td>...</td>\n",
       "      <td>...</td>\n",
       "      <td>...</td>\n",
       "      <td>...</td>\n",
       "    </tr>\n",
       "    <tr>\n",
       "      <th>195</th>\n",
       "      <td>56</td>\n",
       "      <td>0</td>\n",
       "      <td>1</td>\n",
       "      <td>0</td>\n",
       "      <td>11.567</td>\n",
       "    </tr>\n",
       "    <tr>\n",
       "      <th>196</th>\n",
       "      <td>16</td>\n",
       "      <td>1</td>\n",
       "      <td>1</td>\n",
       "      <td>0</td>\n",
       "      <td>12.006</td>\n",
       "    </tr>\n",
       "    <tr>\n",
       "      <th>197</th>\n",
       "      <td>52</td>\n",
       "      <td>1</td>\n",
       "      <td>2</td>\n",
       "      <td>0</td>\n",
       "      <td>9.894</td>\n",
       "    </tr>\n",
       "    <tr>\n",
       "      <th>198</th>\n",
       "      <td>23</td>\n",
       "      <td>1</td>\n",
       "      <td>2</td>\n",
       "      <td>1</td>\n",
       "      <td>14.020</td>\n",
       "    </tr>\n",
       "    <tr>\n",
       "      <th>199</th>\n",
       "      <td>40</td>\n",
       "      <td>0</td>\n",
       "      <td>1</td>\n",
       "      <td>1</td>\n",
       "      <td>11.349</td>\n",
       "    </tr>\n",
       "  </tbody>\n",
       "</table>\n",
       "<p>200 rows × 5 columns</p>\n",
       "</div>\n",
       "    <div class=\"colab-df-buttons\">\n",
       "\n",
       "  <div class=\"colab-df-container\">\n",
       "    <button class=\"colab-df-convert\" onclick=\"convertToInteractive('df-b788f677-c14a-4b5a-ba86-dfd46df491fc')\"\n",
       "            title=\"Convert this dataframe to an interactive table.\"\n",
       "            style=\"display:none;\">\n",
       "\n",
       "  <svg xmlns=\"http://www.w3.org/2000/svg\" height=\"24px\" viewBox=\"0 -960 960 960\">\n",
       "    <path d=\"M120-120v-720h720v720H120Zm60-500h600v-160H180v160Zm220 220h160v-160H400v160Zm0 220h160v-160H400v160ZM180-400h160v-160H180v160Zm440 0h160v-160H620v160ZM180-180h160v-160H180v160Zm440 0h160v-160H620v160Z\"/>\n",
       "  </svg>\n",
       "    </button>\n",
       "\n",
       "  <style>\n",
       "    .colab-df-container {\n",
       "      display:flex;\n",
       "      gap: 12px;\n",
       "    }\n",
       "\n",
       "    .colab-df-convert {\n",
       "      background-color: #E8F0FE;\n",
       "      border: none;\n",
       "      border-radius: 50%;\n",
       "      cursor: pointer;\n",
       "      display: none;\n",
       "      fill: #1967D2;\n",
       "      height: 32px;\n",
       "      padding: 0 0 0 0;\n",
       "      width: 32px;\n",
       "    }\n",
       "\n",
       "    .colab-df-convert:hover {\n",
       "      background-color: #E2EBFA;\n",
       "      box-shadow: 0px 1px 2px rgba(60, 64, 67, 0.3), 0px 1px 3px 1px rgba(60, 64, 67, 0.15);\n",
       "      fill: #174EA6;\n",
       "    }\n",
       "\n",
       "    .colab-df-buttons div {\n",
       "      margin-bottom: 4px;\n",
       "    }\n",
       "\n",
       "    [theme=dark] .colab-df-convert {\n",
       "      background-color: #3B4455;\n",
       "      fill: #D2E3FC;\n",
       "    }\n",
       "\n",
       "    [theme=dark] .colab-df-convert:hover {\n",
       "      background-color: #434B5C;\n",
       "      box-shadow: 0px 1px 3px 1px rgba(0, 0, 0, 0.15);\n",
       "      filter: drop-shadow(0px 1px 2px rgba(0, 0, 0, 0.3));\n",
       "      fill: #FFFFFF;\n",
       "    }\n",
       "  </style>\n",
       "\n",
       "    <script>\n",
       "      const buttonEl =\n",
       "        document.querySelector('#df-b788f677-c14a-4b5a-ba86-dfd46df491fc button.colab-df-convert');\n",
       "      buttonEl.style.display =\n",
       "        google.colab.kernel.accessAllowed ? 'block' : 'none';\n",
       "\n",
       "      async function convertToInteractive(key) {\n",
       "        const element = document.querySelector('#df-b788f677-c14a-4b5a-ba86-dfd46df491fc');\n",
       "        const dataTable =\n",
       "          await google.colab.kernel.invokeFunction('convertToInteractive',\n",
       "                                                    [key], {});\n",
       "        if (!dataTable) return;\n",
       "\n",
       "        const docLinkHtml = 'Like what you see? Visit the ' +\n",
       "          '<a target=\"_blank\" href=https://colab.research.google.com/notebooks/data_table.ipynb>data table notebook</a>'\n",
       "          + ' to learn more about interactive tables.';\n",
       "        element.innerHTML = '';\n",
       "        dataTable['output_type'] = 'display_data';\n",
       "        await google.colab.output.renderOutput(dataTable, element);\n",
       "        const docLink = document.createElement('div');\n",
       "        docLink.innerHTML = docLinkHtml;\n",
       "        element.appendChild(docLink);\n",
       "      }\n",
       "    </script>\n",
       "  </div>\n",
       "\n",
       "\n",
       "<div id=\"df-e8c38d89-b2dc-432e-8fc2-c61934b74399\">\n",
       "  <button class=\"colab-df-quickchart\" onclick=\"quickchart('df-e8c38d89-b2dc-432e-8fc2-c61934b74399')\"\n",
       "            title=\"Suggest charts\"\n",
       "            style=\"display:none;\">\n",
       "\n",
       "<svg xmlns=\"http://www.w3.org/2000/svg\" height=\"24px\"viewBox=\"0 0 24 24\"\n",
       "     width=\"24px\">\n",
       "    <g>\n",
       "        <path d=\"M19 3H5c-1.1 0-2 .9-2 2v14c0 1.1.9 2 2 2h14c1.1 0 2-.9 2-2V5c0-1.1-.9-2-2-2zM9 17H7v-7h2v7zm4 0h-2V7h2v10zm4 0h-2v-4h2v4z\"/>\n",
       "    </g>\n",
       "</svg>\n",
       "  </button>\n",
       "\n",
       "<style>\n",
       "  .colab-df-quickchart {\n",
       "      --bg-color: #E8F0FE;\n",
       "      --fill-color: #1967D2;\n",
       "      --hover-bg-color: #E2EBFA;\n",
       "      --hover-fill-color: #174EA6;\n",
       "      --disabled-fill-color: #AAA;\n",
       "      --disabled-bg-color: #DDD;\n",
       "  }\n",
       "\n",
       "  [theme=dark] .colab-df-quickchart {\n",
       "      --bg-color: #3B4455;\n",
       "      --fill-color: #D2E3FC;\n",
       "      --hover-bg-color: #434B5C;\n",
       "      --hover-fill-color: #FFFFFF;\n",
       "      --disabled-bg-color: #3B4455;\n",
       "      --disabled-fill-color: #666;\n",
       "  }\n",
       "\n",
       "  .colab-df-quickchart {\n",
       "    background-color: var(--bg-color);\n",
       "    border: none;\n",
       "    border-radius: 50%;\n",
       "    cursor: pointer;\n",
       "    display: none;\n",
       "    fill: var(--fill-color);\n",
       "    height: 32px;\n",
       "    padding: 0;\n",
       "    width: 32px;\n",
       "  }\n",
       "\n",
       "  .colab-df-quickchart:hover {\n",
       "    background-color: var(--hover-bg-color);\n",
       "    box-shadow: 0 1px 2px rgba(60, 64, 67, 0.3), 0 1px 3px 1px rgba(60, 64, 67, 0.15);\n",
       "    fill: var(--button-hover-fill-color);\n",
       "  }\n",
       "\n",
       "  .colab-df-quickchart-complete:disabled,\n",
       "  .colab-df-quickchart-complete:disabled:hover {\n",
       "    background-color: var(--disabled-bg-color);\n",
       "    fill: var(--disabled-fill-color);\n",
       "    box-shadow: none;\n",
       "  }\n",
       "\n",
       "  .colab-df-spinner {\n",
       "    border: 2px solid var(--fill-color);\n",
       "    border-color: transparent;\n",
       "    border-bottom-color: var(--fill-color);\n",
       "    animation:\n",
       "      spin 1s steps(1) infinite;\n",
       "  }\n",
       "\n",
       "  @keyframes spin {\n",
       "    0% {\n",
       "      border-color: transparent;\n",
       "      border-bottom-color: var(--fill-color);\n",
       "      border-left-color: var(--fill-color);\n",
       "    }\n",
       "    20% {\n",
       "      border-color: transparent;\n",
       "      border-left-color: var(--fill-color);\n",
       "      border-top-color: var(--fill-color);\n",
       "    }\n",
       "    30% {\n",
       "      border-color: transparent;\n",
       "      border-left-color: var(--fill-color);\n",
       "      border-top-color: var(--fill-color);\n",
       "      border-right-color: var(--fill-color);\n",
       "    }\n",
       "    40% {\n",
       "      border-color: transparent;\n",
       "      border-right-color: var(--fill-color);\n",
       "      border-top-color: var(--fill-color);\n",
       "    }\n",
       "    60% {\n",
       "      border-color: transparent;\n",
       "      border-right-color: var(--fill-color);\n",
       "    }\n",
       "    80% {\n",
       "      border-color: transparent;\n",
       "      border-right-color: var(--fill-color);\n",
       "      border-bottom-color: var(--fill-color);\n",
       "    }\n",
       "    90% {\n",
       "      border-color: transparent;\n",
       "      border-bottom-color: var(--fill-color);\n",
       "    }\n",
       "  }\n",
       "</style>\n",
       "\n",
       "  <script>\n",
       "    async function quickchart(key) {\n",
       "      const quickchartButtonEl =\n",
       "        document.querySelector('#' + key + ' button');\n",
       "      quickchartButtonEl.disabled = true;  // To prevent multiple clicks.\n",
       "      quickchartButtonEl.classList.add('colab-df-spinner');\n",
       "      try {\n",
       "        const charts = await google.colab.kernel.invokeFunction(\n",
       "            'suggestCharts', [key], {});\n",
       "      } catch (error) {\n",
       "        console.error('Error during call to suggestCharts:', error);\n",
       "      }\n",
       "      quickchartButtonEl.classList.remove('colab-df-spinner');\n",
       "      quickchartButtonEl.classList.add('colab-df-quickchart-complete');\n",
       "    }\n",
       "    (() => {\n",
       "      let quickchartButtonEl =\n",
       "        document.querySelector('#df-e8c38d89-b2dc-432e-8fc2-c61934b74399 button');\n",
       "      quickchartButtonEl.style.display =\n",
       "        google.colab.kernel.accessAllowed ? 'block' : 'none';\n",
       "    })();\n",
       "  </script>\n",
       "</div>\n",
       "\n",
       "  <div id=\"id_3c2d5353-9f8d-46e5-8f3c-c8e34ae40308\">\n",
       "    <style>\n",
       "      .colab-df-generate {\n",
       "        background-color: #E8F0FE;\n",
       "        border: none;\n",
       "        border-radius: 50%;\n",
       "        cursor: pointer;\n",
       "        display: none;\n",
       "        fill: #1967D2;\n",
       "        height: 32px;\n",
       "        padding: 0 0 0 0;\n",
       "        width: 32px;\n",
       "      }\n",
       "\n",
       "      .colab-df-generate:hover {\n",
       "        background-color: #E2EBFA;\n",
       "        box-shadow: 0px 1px 2px rgba(60, 64, 67, 0.3), 0px 1px 3px 1px rgba(60, 64, 67, 0.15);\n",
       "        fill: #174EA6;\n",
       "      }\n",
       "\n",
       "      [theme=dark] .colab-df-generate {\n",
       "        background-color: #3B4455;\n",
       "        fill: #D2E3FC;\n",
       "      }\n",
       "\n",
       "      [theme=dark] .colab-df-generate:hover {\n",
       "        background-color: #434B5C;\n",
       "        box-shadow: 0px 1px 3px 1px rgba(0, 0, 0, 0.15);\n",
       "        filter: drop-shadow(0px 1px 2px rgba(0, 0, 0, 0.3));\n",
       "        fill: #FFFFFF;\n",
       "      }\n",
       "    </style>\n",
       "    <button class=\"colab-df-generate\" onclick=\"generateWithVariable('cla_imb_XP')\"\n",
       "            title=\"Generate code using this dataframe.\"\n",
       "            style=\"display:none;\">\n",
       "\n",
       "  <svg xmlns=\"http://www.w3.org/2000/svg\" height=\"24px\"viewBox=\"0 0 24 24\"\n",
       "       width=\"24px\">\n",
       "    <path d=\"M7,19H8.4L18.45,9,17,7.55,7,17.6ZM5,21V16.75L18.45,3.32a2,2,0,0,1,2.83,0l1.4,1.43a1.91,1.91,0,0,1,.58,1.4,1.91,1.91,0,0,1-.58,1.4L9.25,21ZM18.45,9,17,7.55Zm-12,3A5.31,5.31,0,0,0,4.9,8.1,5.31,5.31,0,0,0,1,6.5,5.31,5.31,0,0,0,4.9,4.9,5.31,5.31,0,0,0,6.5,1,5.31,5.31,0,0,0,8.1,4.9,5.31,5.31,0,0,0,12,6.5,5.46,5.46,0,0,0,6.5,12Z\"/>\n",
       "  </svg>\n",
       "    </button>\n",
       "    <script>\n",
       "      (() => {\n",
       "      const buttonEl =\n",
       "        document.querySelector('#id_3c2d5353-9f8d-46e5-8f3c-c8e34ae40308 button.colab-df-generate');\n",
       "      buttonEl.style.display =\n",
       "        google.colab.kernel.accessAllowed ? 'block' : 'none';\n",
       "\n",
       "      buttonEl.onclick = () => {\n",
       "        google.colab.notebook.generateWithVariable('cla_imb_XP');\n",
       "      }\n",
       "      })();\n",
       "    </script>\n",
       "  </div>\n",
       "\n",
       "    </div>\n",
       "  </div>\n"
      ],
      "text/plain": [
       "     Age  Sex  BP  Cholesterol  Na_to_K\n",
       "0     23    0   0            0   25.355\n",
       "1     47    1   1            0   13.093\n",
       "2     47    1   1            0   10.114\n",
       "3     28    0   2            0    7.798\n",
       "4     61    0   1            0   18.043\n",
       "..   ...  ...  ..          ...      ...\n",
       "195   56    0   1            0   11.567\n",
       "196   16    1   1            0   12.006\n",
       "197   52    1   2            0    9.894\n",
       "198   23    1   2            1   14.020\n",
       "199   40    0   1            1   11.349\n",
       "\n",
       "[200 rows x 5 columns]"
      ]
     },
     "execution_count": 9,
     "metadata": {},
     "output_type": "execute_result"
    }
   ],
   "source": [
    "cla_imb_XP"
   ]
  },
  {
   "cell_type": "code",
   "execution_count": 10,
   "metadata": {
    "colab": {
     "base_uri": "https://localhost:8080/"
    },
    "executionInfo": {
     "elapsed": 18,
     "status": "ok",
     "timestamp": 1722108397163,
     "user": {
      "displayName": "Jada",
      "userId": "13373990166318476339"
     },
     "user_tz": -330
    },
    "id": "J6TlwGsoAhne",
    "outputId": "79255715-b850-406c-8a18-21e43f1bf767"
   },
   "outputs": [
    {
     "data": {
      "text/plain": [
       "0      4\n",
       "1      2\n",
       "2      2\n",
       "3      3\n",
       "4      4\n",
       "      ..\n",
       "195    2\n",
       "196    2\n",
       "197    3\n",
       "198    3\n",
       "199    3\n",
       "Name: Drug, Length: 200, dtype: int64"
      ]
     },
     "execution_count": 10,
     "metadata": {},
     "output_type": "execute_result"
    }
   ],
   "source": [
    "cla_imb_YQ"
   ]
  },
  {
   "cell_type": "code",
   "execution_count": 11,
   "metadata": {
    "colab": {
     "base_uri": "https://localhost:8080/"
    },
    "executionInfo": {
     "elapsed": 1865,
     "status": "ok",
     "timestamp": 1722108399011,
     "user": {
      "displayName": "Jada",
      "userId": "13373990166318476339"
     },
     "user_tz": -330
    },
    "id": "ktOD_vPSBSek",
    "outputId": "e3a05e7b-83b0-423b-9c1d-17876ce984af"
   },
   "outputs": [
    {
     "name": "stdout",
     "output_type": "stream",
     "text": [
      "Actual Data   :  Counter({4: 91, 3: 54, 0: 23, 2: 16, 1: 16})\n",
      "Balanced Data : Counter({4: 91, 2: 91, 3: 91, 0: 91, 1: 91})\n"
     ]
    }
   ],
   "source": [
    "import imblearn\n",
    "from imblearn.over_sampling import SMOTE as cla_ste\n",
    "from collections import Counter as cla_cnt\n",
    "\n",
    "cla_imb_YQ = cla_imb['Drug']\n",
    "\n",
    "print('Actual Data   :  %s' % cla_cnt(cla_imb_YQ))\n",
    "cla_smote = cla_ste()\n",
    "cla_imb_XP, cla_imb_YQ = cla_smote.fit_resample(cla_imb_XP, cla_imb_YQ)\n",
    "print('Balanced Data : %s' % cla_cnt(cla_imb_YQ))"
   ]
  },
  {
   "cell_type": "code",
   "execution_count": 12,
   "metadata": {
    "executionInfo": {
     "elapsed": 10,
     "status": "ok",
     "timestamp": 1722108399012,
     "user": {
      "displayName": "Jada",
      "userId": "13373990166318476339"
     },
     "user_tz": -330
    },
    "id": "Dydv_LirBAJQ"
   },
   "outputs": [],
   "source": [
    "from sklearn.model_selection import train_test_split as cla_imbns\n",
    "import warnings as cla_imbng\n",
    "cla_imbng.filterwarnings(\"ignore\")"
   ]
  },
  {
   "cell_type": "code",
   "execution_count": 13,
   "metadata": {
    "colab": {
     "base_uri": "https://localhost:8080/"
    },
    "executionInfo": {
     "elapsed": 9,
     "status": "ok",
     "timestamp": 1722108399012,
     "user": {
      "displayName": "Jada",
      "userId": "13373990166318476339"
     },
     "user_tz": -330
    },
    "id": "5KNt5KtxBNNV",
    "outputId": "900c9e6f-8986-4ccc-94e1-58f6b120c918"
   },
   "outputs": [
    {
     "name": "stdout",
     "output_type": "stream",
     "text": [
      "Training data    : (273, 5)\n",
      "Testing data     : (91, 5)\n",
      "Validation data  : (91, 5)\n"
     ]
    }
   ],
   "source": [
    "cla_rs=36\n",
    "cla_ti=0.4\n",
    "cla_ti1=0.5\n",
    "\n",
    "# ::::train data--60%::::\n",
    "cla_imb_XPtr, cla_imb_XPte, cla_imb_YQtr, cla_imb_YQte = cla_imbns(cla_imb_XP, cla_imb_YQ, test_size=cla_ti, random_state= cla_rs)\n",
    "# ::::test,validation---20% & 20%\n",
    "cla_imb_XPva, cla_imb_XPte, cla_imb_YQva, cla_imb_YQte = cla_imbns(cla_imb_XPte, cla_imb_YQte, test_size=cla_ti1, random_state= cla_rs)\n",
    "\n",
    "print(\"Training data    :\", cla_imb_XPtr.shape)\n",
    "print(\"Testing data     :\", cla_imb_XPte.shape)\n",
    "print(\"Validation data  :\", cla_imb_XPva.shape)"
   ]
  },
  {
   "cell_type": "markdown",
   "metadata": {
    "id": "a7df6x8PCfRO"
   },
   "source": [
    "### Tree based algorithm"
   ]
  },
  {
   "cell_type": "code",
   "execution_count": 14,
   "metadata": {
    "executionInfo": {
     "elapsed": 8,
     "status": "ok",
     "timestamp": 1722108399012,
     "user": {
      "displayName": "Jada",
      "userId": "13373990166318476339"
     },
     "user_tz": -330
    },
    "id": "gUTI_2W3CqTH"
   },
   "outputs": [],
   "source": [
    "from sklearn.metrics import classification_report as cla_imbcfc\n",
    "from sklearn.metrics import confusion_matrix as cla_imbcom\n",
    "from sklearn.metrics import ConfusionMatrixDisplay as cla_imbcmdi\n",
    "from sklearn.model_selection import GridSearchCV as cla_imbgdrc\n",
    "import time as cla_imbttim"
   ]
  },
  {
   "cell_type": "markdown",
   "metadata": {
    "id": "mNJZhwBlDEA_"
   },
   "source": [
    "#### Decision Tree Classifier"
   ]
  },
  {
   "cell_type": "code",
   "execution_count": 15,
   "metadata": {
    "executionInfo": {
     "elapsed": 7,
     "status": "ok",
     "timestamp": 1722108399012,
     "user": {
      "displayName": "Jada",
      "userId": "13373990166318476339"
     },
     "user_tz": -330
    },
    "id": "7b0rUGz3DJ8z"
   },
   "outputs": [],
   "source": [
    "from sklearn.tree import DecisionTreeClassifier as hosp_mrt_dte"
   ]
  },
  {
   "cell_type": "code",
   "execution_count": 16,
   "metadata": {
    "colab": {
     "base_uri": "https://localhost:8080/"
    },
    "executionInfo": {
     "elapsed": 2123,
     "status": "ok",
     "timestamp": 1722108401128,
     "user": {
      "displayName": "Jada",
      "userId": "13373990166318476339"
     },
     "user_tz": -330
    },
    "id": "rYGFEB6V6PSe",
    "outputId": "49d2cd32-3179-4041-a4bc-572f9212987a"
   },
   "outputs": [
    {
     "name": "stdout",
     "output_type": "stream",
     "text": [
      "Best Parameter {'criterion': 'gini', 'max_depth': None, 'min_samples_leaf': 4, 'min_samples_split': 2}\n"
     ]
    }
   ],
   "source": [
    "cladt_prm_gid = {\n",
    "    'criterion': ['gini', 'entropy'],\n",
    "    'max_depth': [None, 5, 10, 15],\n",
    "    'min_samples_split': [2, 5, 10],\n",
    "    'min_samples_leaf': [1, 2, 4]\n",
    "}\n",
    "cladt_gsh = cla_imbgdrc(estimator=hosp_mrt_dte(), param_grid=cladt_prm_gid, cv=5)\n",
    "cladt_gsh.fit(cla_imb_XPtr, cla_imb_YQtr)\n",
    "print(\"Best Parameter\",cladt_gsh.best_params_)\n",
    "cladt_mdl = cladt_gsh.best_estimator_"
   ]
  },
  {
   "cell_type": "code",
   "execution_count": 17,
   "metadata": {
    "colab": {
     "base_uri": "https://localhost:8080/",
     "height": 709
    },
    "executionInfo": {
     "elapsed": 751,
     "status": "ok",
     "timestamp": 1722108401873,
     "user": {
      "displayName": "Jada",
      "userId": "13373990166318476339"
     },
     "user_tz": -330
    },
    "id": "dSZN1-OT6oN7",
    "outputId": "6d88f157-0bdf-4075-f86a-989aa25f4bb4"
   },
   "outputs": [
    {
     "name": "stdout",
     "output_type": "stream",
     "text": [
      "**************classification report for validation data*****************\n",
      "              precision    recall  f1-score   support\n",
      "\n",
      "           0       1.00      1.00      1.00        20\n",
      "           1       1.00      1.00      1.00        14\n",
      "           2       1.00      1.00      1.00        17\n",
      "           3       1.00      1.00      1.00        17\n",
      "           4       1.00      1.00      1.00        23\n",
      "\n",
      "    accuracy                           1.00        91\n",
      "   macro avg       1.00      1.00      1.00        91\n",
      "weighted avg       1.00      1.00      1.00        91\n",
      "\n",
      "**************confusion matrix for validation data*****************\n"
     ]
    },
    {
     "data": {
      "text/plain": [
       "<sklearn.metrics._plot.confusion_matrix.ConfusionMatrixDisplay at 0x7806473654b0>"
      ]
     },
     "execution_count": 17,
     "metadata": {},
     "output_type": "execute_result"
    },
    {
     "data": {
      "image/png": "[encoded data removed]",
      "text/plain": [
       "<Figure size 640x480 with 2 Axes>"
      ]
     },
     "metadata": {},
     "output_type": "display_data"
    }
   ],
   "source": [
    "\n",
    "drug_pdt_val = cladt_mdl.predict(cla_imb_XPva)\n",
    "print(\"**************classification report for validation data*****************\")\n",
    "print(cla_imbcfc(cla_imb_YQva, drug_pdt_val))\n",
    "print(\"**************confusion matrix for validation data*****************\")\n",
    "cm_val = cla_imbcom(cla_imb_YQva, drug_pdt_val)\n",
    "disp_val = cla_imbcmdi(confusion_matrix=cm_val, display_labels=[0, 1, 2, 3, 4])\n",
    "disp_val.plot(cmap = 'summer')\n"
   ]
  },
  {
   "cell_type": "code",
   "execution_count": 18,
   "metadata": {
    "colab": {
     "base_uri": "https://localhost:8080/",
     "height": 709
    },
    "executionInfo": {
     "elapsed": 576,
     "status": "ok",
     "timestamp": 1722108402428,
     "user": {
      "displayName": "Jada",
      "userId": "13373990166318476339"
     },
     "user_tz": -330
    },
    "id": "oPNKVqGZ8dyq",
    "outputId": "f92ca454-2325-40c7-ddd0-e324a45b8655",
    "scrolled": true
   },
   "outputs": [
    {
     "name": "stdout",
     "output_type": "stream",
     "text": [
      "**************classification report for testing data*****************\n",
      "              precision    recall  f1-score   support\n",
      "\n",
      "           0       1.00      1.00      1.00        17\n",
      "           1       1.00      1.00      1.00        19\n",
      "           2       0.93      1.00      0.96        13\n",
      "           3       1.00      0.91      0.95        23\n",
      "           4       0.95      1.00      0.97        19\n",
      "\n",
      "    accuracy                           0.98        91\n",
      "   macro avg       0.98      0.98      0.98        91\n",
      "weighted avg       0.98      0.98      0.98        91\n",
      "\n",
      "**************confusion matrix for testing data*****************\n"
     ]
    },
    {
     "data": {
      "text/plain": [
       "<sklearn.metrics._plot.confusion_matrix.ConfusionMatrixDisplay at 0x78063b7dfc70>"
      ]
     },
     "execution_count": 18,
     "metadata": {},
     "output_type": "execute_result"
    },
    {
     "data": {
      "image/png": "[encoded data removed]",
      "text/plain": [
       "<Figure size 640x480 with 2 Axes>"
      ]
     },
     "metadata": {},
     "output_type": "display_data"
    }
   ],
   "source": [
    "\n",
    "drug_pred_test = cladt_mdl.predict(cla_imb_XPte)\n",
    "print(\"**************classification report for testing data*****************\")\n",
    "print(cla_imbcfc(cla_imb_YQte, drug_pred_test))\n",
    "print(\"**************confusion matrix for testing data*****************\")\n",
    "cm_test = cla_imbcom(cla_imb_YQte, drug_pred_test)\n",
    "disp_test = cla_imbcmdi(confusion_matrix=cm_test, display_labels=[0, 1, 2, 3, 4])\n",
    "disp_test.plot(cmap = 'summer')"
   ]
  },
  {
   "cell_type": "markdown",
   "metadata": {
    "id": "5dU3CxhEGZJN"
   },
   "source": [
    "#### Extra Trees Classifier"
   ]
  },
  {
   "cell_type": "code",
   "execution_count": 19,
   "metadata": {
    "executionInfo": {
     "elapsed": 14,
     "status": "ok",
     "timestamp": 1722108402428,
     "user": {
      "displayName": "Jada",
      "userId": "13373990166318476339"
     },
     "user_tz": -330
    },
    "id": "2SYt3ycKGftT"
   },
   "outputs": [],
   "source": [
    "from sklearn.ensemble import ExtraTreesClassifier as hosp_mrt_extr"
   ]
  },
  {
   "cell_type": "code",
   "execution_count": 20,
   "metadata": {
    "colab": {
     "base_uri": "https://localhost:8080/"
    },
    "executionInfo": {
     "elapsed": 6766,
     "status": "ok",
     "timestamp": 1722108409180,
     "user": {
      "displayName": "Jada",
      "userId": "13373990166318476339"
     },
     "user_tz": -330
    },
    "id": "8CViMEk_Gf8n",
    "outputId": "9725f075-bc93-48ee-8653-08b32a32bf6a"
   },
   "outputs": [
    {
     "name": "stdout",
     "output_type": "stream",
     "text": [
      "Best Parameter {'criterion': 'gini', 'max_features': 'sqrt', 'min_samples_leaf': 1, 'min_samples_split': 5, 'n_estimators': 100}\n"
     ]
    }
   ],
   "source": [
    "\n",
    "clapm_gid_et = {\n",
    "    'n_estimators': [50, 100],\n",
    "    'criterion': ['gini', 'entropy'],\n",
    "    'max_features': ['auto', 'sqrt'],\n",
    "    'min_samples_split': [2, 5],\n",
    "    'min_samples_leaf': [1, 2]\n",
    "}\n",
    "cla_gid_sh_et = cla_imbgdrc(estimator=hosp_mrt_extr(), param_grid=clapm_gid_et, cv=5)\n",
    "cla_gid_sh_et.fit(cla_imb_XPtr, cla_imb_YQtr)\n",
    "print(\"Best Parameter\",cla_gid_sh_et.best_params_)\n",
    "cla_et_mod = cla_gid_sh_et.best_estimator_"
   ]
  },
  {
   "cell_type": "code",
   "execution_count": 21,
   "metadata": {
    "colab": {
     "base_uri": "https://localhost:8080/",
     "height": 709
    },
    "executionInfo": {
     "elapsed": 927,
     "status": "ok",
     "timestamp": 1722108410101,
     "user": {
      "displayName": "Jada",
      "userId": "13373990166318476339"
     },
     "user_tz": -330
    },
    "id": "TT6UAkH19JEa",
    "outputId": "f6dd47c0-7a67-4106-b161-272ad2359b30"
   },
   "outputs": [
    {
     "name": "stdout",
     "output_type": "stream",
     "text": [
      "**************classification report for validation data*****************\n",
      "              precision    recall  f1-score   support\n",
      "\n",
      "           0       0.95      1.00      0.98        20\n",
      "           1       1.00      0.93      0.96        14\n",
      "           2       1.00      1.00      1.00        17\n",
      "           3       1.00      1.00      1.00        17\n",
      "           4       1.00      1.00      1.00        23\n",
      "\n",
      "    accuracy                           0.99        91\n",
      "   macro avg       0.99      0.99      0.99        91\n",
      "weighted avg       0.99      0.99      0.99        91\n",
      "\n",
      "**************confusion matrix for validation data*****************\n"
     ]
    },
    {
     "data": {
      "text/plain": [
       "<sklearn.metrics._plot.confusion_matrix.ConfusionMatrixDisplay at 0x78063b72ac20>"
      ]
     },
     "execution_count": 21,
     "metadata": {},
     "output_type": "execute_result"
    },
    {
     "data": {
      "image/png": "[encoded data removed]",
      "text/plain": [
       "<Figure size 640x480 with 2 Axes>"
      ]
     },
     "metadata": {},
     "output_type": "display_data"
    }
   ],
   "source": [
    "\n",
    "drug_pdt_val = cla_et_mod.predict(cla_imb_XPva)\n",
    "print(\"**************classification report for validation data*****************\")\n",
    "print(cla_imbcfc(cla_imb_YQva, drug_pdt_val))\n",
    "print(\"**************confusion matrix for validation data*****************\")\n",
    "cm_val = cla_imbcom(cla_imb_YQva, drug_pdt_val)\n",
    "disp_val = cla_imbcmdi(confusion_matrix=cm_val, display_labels=[0, 1, 2, 3, 4])\n",
    "disp_val.plot(cmap = 'summer')"
   ]
  },
  {
   "cell_type": "code",
   "execution_count": 22,
   "metadata": {
    "colab": {
     "base_uri": "https://localhost:8080/",
     "height": 709
    },
    "executionInfo": {
     "elapsed": 22,
     "status": "ok",
     "timestamp": 1722108410101,
     "user": {
      "displayName": "Jada",
      "userId": "13373990166318476339"
     },
     "user_tz": -330
    },
    "id": "xhgJlfHA9I_T",
    "outputId": "885b8b67-e842-420c-b5d9-7a6ddfd80810"
   },
   "outputs": [
    {
     "name": "stdout",
     "output_type": "stream",
     "text": [
      "**************classification report for testing data*****************\n",
      "              precision    recall  f1-score   support\n",
      "\n",
      "           0       1.00      1.00      1.00        17\n",
      "           1       1.00      1.00      1.00        19\n",
      "           2       0.93      1.00      0.96        13\n",
      "           3       1.00      0.96      0.98        23\n",
      "           4       1.00      1.00      1.00        19\n",
      "\n",
      "    accuracy                           0.99        91\n",
      "   macro avg       0.99      0.99      0.99        91\n",
      "weighted avg       0.99      0.99      0.99        91\n",
      "\n",
      "**************confusion matrix for testing data*****************\n"
     ]
    },
    {
     "data": {
      "text/plain": [
       "<sklearn.metrics._plot.confusion_matrix.ConfusionMatrixDisplay at 0x78063b70a740>"
      ]
     },
     "execution_count": 22,
     "metadata": {},
     "output_type": "execute_result"
    },
    {
     "data": {
      "image/png": "[encoded data removed]",
      "text/plain": [
       "<Figure size 640x480 with 2 Axes>"
      ]
     },
     "metadata": {},
     "output_type": "display_data"
    }
   ],
   "source": [
    "\n",
    "drug_pred_test = cla_et_mod.predict(cla_imb_XPte)\n",
    "print(\"**************classification report for testing data*****************\")\n",
    "print(cla_imbcfc(cla_imb_YQte, drug_pred_test))\n",
    "print(\"**************confusion matrix for testing data*****************\")\n",
    "cm_test = cla_imbcom(cla_imb_YQte, drug_pred_test)\n",
    "disp_test = cla_imbcmdi(confusion_matrix=cm_test, display_labels=[0, 1, 2, 3, 4])\n",
    "disp_test.plot(cmap = 'summer')"
   ]
  },
  {
   "cell_type": "markdown",
   "metadata": {
    "id": "QhzAIqe_IHaT"
   },
   "source": [
    "### Ensemble methods"
   ]
  },
  {
   "cell_type": "markdown",
   "metadata": {
    "id": "w1QMnvsJIcST"
   },
   "source": [
    "#### AdaBoost Classifier"
   ]
  },
  {
   "cell_type": "code",
   "execution_count": 23,
   "metadata": {
    "executionInfo": {
     "elapsed": 19,
     "status": "ok",
     "timestamp": 1722108410101,
     "user": {
      "displayName": "Jada",
      "userId": "13373990166318476339"
     },
     "user_tz": -330
    },
    "id": "BiCmz2PRIQiL"
   },
   "outputs": [],
   "source": [
    "from sklearn.ensemble import AdaBoostClassifier as hosp_mrt_adst"
   ]
  },
  {
   "cell_type": "code",
   "execution_count": 24,
   "metadata": {
    "colab": {
     "base_uri": "https://localhost:8080/"
    },
    "executionInfo": {
     "elapsed": 21939,
     "status": "ok",
     "timestamp": 1722108432021,
     "user": {
      "displayName": "Jada",
      "userId": "13373990166318476339"
     },
     "user_tz": -330
    },
    "id": "4VZgy3EN-El8",
    "outputId": "be1ab09a-d26b-4fe6-cba8-3f00dbda0e97"
   },
   "outputs": [
    {
     "name": "stdout",
     "output_type": "stream",
     "text": [
      "Best Parameter {'algorithm': 'SAMME', 'learning_rate': 0.1, 'n_estimators': 50}\n"
     ]
    }
   ],
   "source": [
    "clapam_gid_ab = {\n",
    "    'n_estimators': [50, 100],\n",
    "    'learning_rate': [0.1, 0.5, 1.0],\n",
    "    'algorithm': ['SAMME', 'SAMME.R']\n",
    "}\n",
    "cla_gid_sh_ab = cla_imbgdrc(estimator=hosp_mrt_adst(), param_grid=clapam_gid_ab, cv=5)\n",
    "cla_gid_sh_ab.fit(cla_imb_XPtr, cla_imb_YQtr)\n",
    "print(\"Best Parameter\",cla_gid_sh_ab.best_params_)\n",
    "cla_ab_modl = cla_gid_sh_ab.best_estimator_"
   ]
  },
  {
   "cell_type": "code",
   "execution_count": 25,
   "metadata": {
    "colab": {
     "base_uri": "https://localhost:8080/",
     "height": 709
    },
    "executionInfo": {
     "elapsed": 1288,
     "status": "ok",
     "timestamp": 1722108433304,
     "user": {
      "displayName": "Jada",
      "userId": "13373990166318476339"
     },
     "user_tz": -330
    },
    "id": "N-h0xTon-EbL",
    "outputId": "c8796271-f9c7-4432-debe-a839d91eb087"
   },
   "outputs": [
    {
     "name": "stdout",
     "output_type": "stream",
     "text": [
      "**************classification report for validation data*****************\n",
      "              precision    recall  f1-score   support\n",
      "\n",
      "           0       0.00      0.00      0.00        20\n",
      "           1       0.41      1.00      0.58        14\n",
      "           2       0.50      1.00      0.67        17\n",
      "           3       0.00      0.00      0.00        17\n",
      "           4       1.00      1.00      1.00        23\n",
      "\n",
      "    accuracy                           0.59        91\n",
      "   macro avg       0.38      0.60      0.45        91\n",
      "weighted avg       0.41      0.59      0.47        91\n",
      "\n",
      "**************confusion matrix for validation data*****************\n"
     ]
    },
    {
     "data": {
      "text/plain": [
       "<sklearn.metrics._plot.confusion_matrix.ConfusionMatrixDisplay at 0x78063b55f430>"
      ]
     },
     "execution_count": 25,
     "metadata": {},
     "output_type": "execute_result"
    },
    {
     "data": {
      "image/png": "[encoded data removed]",
      "text/plain": [
       "<Figure size 640x480 with 2 Axes>"
      ]
     },
     "metadata": {},
     "output_type": "display_data"
    }
   ],
   "source": [
    "\n",
    "drug_pdt_val = cla_ab_modl.predict(cla_imb_XPva)\n",
    "print(\"**************classification report for validation data*****************\")\n",
    "print(cla_imbcfc(cla_imb_YQva, drug_pdt_val))\n",
    "print(\"**************confusion matrix for validation data*****************\")\n",
    "cm_val = cla_imbcom(cla_imb_YQva, drug_pdt_val)\n",
    "disp_val = cla_imbcmdi(confusion_matrix=cm_val, display_labels=[0, 1, 2, 3, 4])\n",
    "disp_val.plot(cmap = 'summer')"
   ]
  },
  {
   "cell_type": "code",
   "execution_count": 26,
   "metadata": {
    "colab": {
     "base_uri": "https://localhost:8080/",
     "height": 709
    },
    "executionInfo": {
     "elapsed": 919,
     "status": "ok",
     "timestamp": 1722108434207,
     "user": {
      "displayName": "Jada",
      "userId": "13373990166318476339"
     },
     "user_tz": -330
    },
    "id": "nL67yzs1-gJz",
    "outputId": "e49418c5-c7da-4e00-a43e-fddd6203001a"
   },
   "outputs": [
    {
     "name": "stdout",
     "output_type": "stream",
     "text": [
      "**************classification report for testing data*****************\n",
      "              precision    recall  f1-score   support\n",
      "\n",
      "           0       0.00      0.00      0.00        17\n",
      "           1       0.53      1.00      0.69        19\n",
      "           2       0.37      1.00      0.54        13\n",
      "           3       0.00      0.00      0.00        23\n",
      "           4       0.95      1.00      0.97        19\n",
      "\n",
      "    accuracy                           0.56        91\n",
      "   macro avg       0.37      0.60      0.44        91\n",
      "weighted avg       0.36      0.56      0.43        91\n",
      "\n",
      "**************confusion matrix for testing data*****************\n"
     ]
    },
    {
     "data": {
      "text/plain": [
       "<sklearn.metrics._plot.confusion_matrix.ConfusionMatrixDisplay at 0x78063b464130>"
      ]
     },
     "execution_count": 26,
     "metadata": {},
     "output_type": "execute_result"
    },
    {
     "data": {
      "image/png": "[encoded data removed]",
      "text/plain": [
       "<Figure size 640x480 with 2 Axes>"
      ]
     },
     "metadata": {},
     "output_type": "display_data"
    }
   ],
   "source": [
    "\n",
    "drug_pred_test = cla_ab_modl.predict(cla_imb_XPte)\n",
    "print(\"**************classification report for testing data*****************\")\n",
    "print(cla_imbcfc(cla_imb_YQte, drug_pred_test))\n",
    "print(\"**************confusion matrix for testing data*****************\")\n",
    "cm_test = cla_imbcom(cla_imb_YQte, drug_pred_test)\n",
    "disp_test = cla_imbcmdi(confusion_matrix=cm_test, display_labels=[0, 1, 2, 3, 4])\n",
    "disp_test.plot(cmap = 'summer')"
   ]
  },
  {
   "cell_type": "markdown",
   "metadata": {
    "id": "PxxeN4D2MiGu"
   },
   "source": [
    "#### Bagging Classifier"
   ]
  },
  {
   "cell_type": "code",
   "execution_count": 27,
   "metadata": {
    "executionInfo": {
     "elapsed": 367,
     "status": "ok",
     "timestamp": 1722108434565,
     "user": {
      "displayName": "Jada",
      "userId": "13373990166318476339"
     },
     "user_tz": -330
    },
    "id": "P-AmhuqaMmpt"
   },
   "outputs": [],
   "source": [
    "from sklearn.ensemble import BaggingClassifier as hosp_mrt_bags"
   ]
  },
  {
   "cell_type": "code",
   "execution_count": 28,
   "metadata": {
    "colab": {
     "base_uri": "https://localhost:8080/"
    },
    "executionInfo": {
     "elapsed": 13110,
     "status": "ok",
     "timestamp": 1722108447674,
     "user": {
      "displayName": "Jada",
      "userId": "13373990166318476339"
     },
     "user_tz": -330
    },
    "id": "GzxC-007-1Ml",
    "outputId": "7bc3b58b-e5c9-47a3-f2a4-35ee569dc863"
   },
   "outputs": [
    {
     "name": "stdout",
     "output_type": "stream",
     "text": [
      "Best Parameter {'bootstrap': True, 'bootstrap_features': False, 'max_features': 0.8, 'max_samples': 0.5, 'n_estimators': 50}\n"
     ]
    }
   ],
   "source": [
    "cla_pam_gid_bg = {\n",
    "    'n_estimators': [10, 50],\n",
    "    'max_samples': [0.5, 0.8],\n",
    "    'max_features': [0.5, 0.8],\n",
    "    'bootstrap': [True, False],\n",
    "    'bootstrap_features': [True, False]\n",
    "}\n",
    "cla_gid_sh_bg = cla_imbgdrc(estimator=hosp_mrt_bags(), param_grid=cla_pam_gid_bg, cv=5)\n",
    "cla_gid_sh_bg.fit(cla_imb_XPtr, cla_imb_YQtr)\n",
    "print(\"Best Parameter\",cla_gid_sh_bg.best_params_)\n",
    "clabg_mdl = cla_gid_sh_bg.best_estimator_"
   ]
  },
  {
   "cell_type": "code",
   "execution_count": 29,
   "metadata": {
    "colab": {
     "base_uri": "https://localhost:8080/",
     "height": 709
    },
    "executionInfo": {
     "elapsed": 1095,
     "status": "ok",
     "timestamp": 1722108448758,
     "user": {
      "displayName": "Jada",
      "userId": "13373990166318476339"
     },
     "user_tz": -330
    },
    "id": "yeZwSZUd-1Jj",
    "outputId": "bf39c43b-0597-4663-fc0c-a3aedcee77f6"
   },
   "outputs": [
    {
     "name": "stdout",
     "output_type": "stream",
     "text": [
      "**************classification report for validation data*****************\n",
      "              precision    recall  f1-score   support\n",
      "\n",
      "           0       1.00      1.00      1.00        20\n",
      "           1       1.00      1.00      1.00        14\n",
      "           2       1.00      1.00      1.00        17\n",
      "           3       1.00      1.00      1.00        17\n",
      "           4       1.00      1.00      1.00        23\n",
      "\n",
      "    accuracy                           1.00        91\n",
      "   macro avg       1.00      1.00      1.00        91\n",
      "weighted avg       1.00      1.00      1.00        91\n",
      "\n",
      "**************confusion matrix for validation data*****************\n"
     ]
    },
    {
     "data": {
      "text/plain": [
       "<sklearn.metrics._plot.confusion_matrix.ConfusionMatrixDisplay at 0x78063b31ef50>"
      ]
     },
     "execution_count": 29,
     "metadata": {},
     "output_type": "execute_result"
    },
    {
     "data": {
      "image/png": "[encoded data removed]",
      "text/plain": [
       "<Figure size 640x480 with 2 Axes>"
      ]
     },
     "metadata": {},
     "output_type": "display_data"
    }
   ],
   "source": [
    "\n",
    "drug_pdt_val = clabg_mdl.predict(cla_imb_XPva)\n",
    "print(\"**************classification report for validation data*****************\")\n",
    "print(cla_imbcfc(cla_imb_YQva, drug_pdt_val))\n",
    "print(\"**************confusion matrix for validation data*****************\")\n",
    "cm_val = cla_imbcom(cla_imb_YQva, drug_pdt_val)\n",
    "disp_val = cla_imbcmdi(confusion_matrix=cm_val, display_labels=[0, 1, 2, 3, 4])\n",
    "disp_val.plot(cmap = 'summer')"
   ]
  },
  {
   "cell_type": "code",
   "execution_count": 30,
   "metadata": {
    "colab": {
     "base_uri": "https://localhost:8080/",
     "height": 709
    },
    "executionInfo": {
     "elapsed": 23,
     "status": "ok",
     "timestamp": 1722108448758,
     "user": {
      "displayName": "Jada",
      "userId": "13373990166318476339"
     },
     "user_tz": -330
    },
    "id": "SJ-4OGXI_F6T",
    "outputId": "7a7b8edf-a5b9-4fc0-e69f-ff27d29ab816"
   },
   "outputs": [
    {
     "name": "stdout",
     "output_type": "stream",
     "text": [
      "**************classification report for testing data*****************\n",
      "              precision    recall  f1-score   support\n",
      "\n",
      "           0       1.00      1.00      1.00        17\n",
      "           1       1.00      1.00      1.00        19\n",
      "           2       0.93      1.00      0.96        13\n",
      "           3       1.00      0.96      0.98        23\n",
      "           4       1.00      1.00      1.00        19\n",
      "\n",
      "    accuracy                           0.99        91\n",
      "   macro avg       0.99      0.99      0.99        91\n",
      "weighted avg       0.99      0.99      0.99        91\n",
      "\n",
      "**************confusion matrix for testing data*****************\n"
     ]
    },
    {
     "data": {
      "text/plain": [
       "<sklearn.metrics._plot.confusion_matrix.ConfusionMatrixDisplay at 0x78063b25b4c0>"
      ]
     },
     "execution_count": 30,
     "metadata": {},
     "output_type": "execute_result"
    },
    {
     "data": {
      "image/png": "[encoded data removed]",
      "text/plain": [
       "<Figure size 640x480 with 2 Axes>"
      ]
     },
     "metadata": {},
     "output_type": "display_data"
    }
   ],
   "source": [
    "\n",
    "drug_pred_test = clabg_mdl.predict(cla_imb_XPte)\n",
    "print(\"**************classification report for testing data*****************\")\n",
    "print(cla_imbcfc(cla_imb_YQte, drug_pred_test))\n",
    "print(\"**************confusion matrix for testing data*****************\")\n",
    "cm_test = cla_imbcom(cla_imb_YQte, drug_pred_test)\n",
    "disp_test = cla_imbcmdi(confusion_matrix=cm_test, display_labels=[0, 1, 2, 3, 4])\n",
    "disp_test.plot(cmap = 'summer')"
   ]
  },
  {
   "cell_type": "markdown",
   "metadata": {
    "id": "yBxnnkWWN1zx"
   },
   "source": [
    "### Naive Bayes classifiers"
   ]
  },
  {
   "cell_type": "markdown",
   "metadata": {
    "id": "mzKizG47N8RJ"
   },
   "source": [
    "#### BernoulliNB"
   ]
  },
  {
   "cell_type": "code",
   "execution_count": 31,
   "metadata": {
    "executionInfo": {
     "elapsed": 20,
     "status": "ok",
     "timestamp": 1722108448758,
     "user": {
      "displayName": "Jada",
      "userId": "13373990166318476339"
     },
     "user_tz": -330
    },
    "id": "96RTjwQZN_9Y"
   },
   "outputs": [],
   "source": [
    "from sklearn.naive_bayes import BernoulliNB as hosp_mrt_beru"
   ]
  },
  {
   "cell_type": "code",
   "execution_count": 32,
   "metadata": {
    "colab": {
     "base_uri": "https://localhost:8080/"
    },
    "executionInfo": {
     "elapsed": 909,
     "status": "ok",
     "timestamp": 1722108449647,
     "user": {
      "displayName": "Jada",
      "userId": "13373990166318476339"
     },
     "user_tz": -330
    },
    "id": "K4aCgQkC_XdH",
    "outputId": "8cabd8ff-0ff7-4e0f-cdf0-bf86f838d6c9"
   },
   "outputs": [
    {
     "name": "stdout",
     "output_type": "stream",
     "text": [
      "Best Parameter {'alpha': 0.0, 'fit_prior': True}\n"
     ]
    }
   ],
   "source": [
    "cla_pam_gid_bnb = {\n",
    "    'alpha': [0.0, 0.5, 1.0, 2.0],\n",
    "    'fit_prior': [True, False]\n",
    "}\n",
    "cla_pam_gid_sh = cla_imbgdrc(estimator=hosp_mrt_beru(), param_grid=cla_pam_gid_bnb, cv=5)\n",
    "cla_pam_gid_sh.fit(cla_imb_XPtr, cla_imb_YQtr)\n",
    "print(\"Best Parameter\",cla_pam_gid_sh.best_params_)\n",
    "cla_bnb_mdl = cla_pam_gid_sh.best_estimator_"
   ]
  },
  {
   "cell_type": "code",
   "execution_count": 33,
   "metadata": {
    "colab": {
     "base_uri": "https://localhost:8080/",
     "height": 709
    },
    "executionInfo": {
     "elapsed": 23,
     "status": "ok",
     "timestamp": 1722108449647,
     "user": {
      "displayName": "Jada",
      "userId": "13373990166318476339"
     },
     "user_tz": -330
    },
    "id": "dfP5nsIb_XZz",
    "outputId": "60c3da8b-4c79-4ac8-ab06-430651a89b67"
   },
   "outputs": [
    {
     "name": "stdout",
     "output_type": "stream",
     "text": [
      "**************classification report for validation data*****************\n",
      "              precision    recall  f1-score   support\n",
      "\n",
      "           0       0.36      0.40      0.38        20\n",
      "           1       0.33      0.50      0.40        14\n",
      "           2       0.53      1.00      0.69        17\n",
      "           3       0.69      0.65      0.67        17\n",
      "           4       0.00      0.00      0.00        23\n",
      "\n",
      "    accuracy                           0.47        91\n",
      "   macro avg       0.38      0.51      0.43        91\n",
      "weighted avg       0.36      0.47      0.40        91\n",
      "\n",
      "**************confusion matrix for validation data*****************\n"
     ]
    },
    {
     "data": {
      "text/plain": [
       "<sklearn.metrics._plot.confusion_matrix.ConfusionMatrixDisplay at 0x78063b44a890>"
      ]
     },
     "execution_count": 33,
     "metadata": {},
     "output_type": "execute_result"
    },
    {
     "data": {
      "image/png": "[encoded data removed]",
      "text/plain": [
       "<Figure size 640x480 with 2 Axes>"
      ]
     },
     "metadata": {},
     "output_type": "display_data"
    }
   ],
   "source": [
    "\n",
    "drug_pdt_val = cla_bnb_mdl.predict(cla_imb_XPva)\n",
    "print(\"**************classification report for validation data*****************\")\n",
    "print(cla_imbcfc(cla_imb_YQva, drug_pdt_val))\n",
    "print(\"**************confusion matrix for validation data*****************\")\n",
    "cm_val = cla_imbcom(cla_imb_YQva, drug_pdt_val)\n",
    "disp_val = cla_imbcmdi(confusion_matrix=cm_val, display_labels=[0, 1, 2, 3, 4])\n",
    "disp_val.plot(cmap = 'summer')"
   ]
  },
  {
   "cell_type": "code",
   "execution_count": 34,
   "metadata": {
    "colab": {
     "base_uri": "https://localhost:8080/",
     "height": 715
    },
    "executionInfo": {
     "elapsed": 20,
     "status": "ok",
     "timestamp": 1722108449647,
     "user": {
      "displayName": "Jada",
      "userId": "13373990166318476339"
     },
     "user_tz": -330
    },
    "id": "QpK8RsIS_XWq",
    "outputId": "ab143f17-4891-4fd6-ddb9-9040157cfdb8"
   },
   "outputs": [
    {
     "name": "stdout",
     "output_type": "stream",
     "text": [
      "**************classification report for testing data*****************\n",
      "              precision    recall  f1-score   support\n",
      "\n",
      "           0       0.38      0.65      0.48        17\n",
      "           1       0.38      0.26      0.31        19\n",
      "           2       0.42      1.00      0.59        13\n",
      "           3       0.61      0.48      0.54        23\n",
      "           4       0.00      0.00      0.00        19\n",
      "\n",
      "    accuracy                           0.44        91\n",
      "   macro avg       0.36      0.48      0.38        91\n",
      "weighted avg       0.37      0.44      0.37        91\n",
      "\n",
      "**************confusion matrix for testing data*****************\n"
     ]
    },
    {
     "data": {
      "text/plain": [
       "<sklearn.metrics._plot.confusion_matrix.ConfusionMatrixDisplay at 0x78063b05b700>"
      ]
     },
     "execution_count": 34,
     "metadata": {},
     "output_type": "execute_result"
    },
    {
     "data": {
      "image/png": "[encoded data removed]",
      "text/plain": [
       "<Figure size 640x480 with 2 Axes>"
      ]
     },
     "metadata": {},
     "output_type": "display_data"
    }
   ],
   "source": [
    "\n",
    "drug_pred_test = cla_bnb_mdl.predict(cla_imb_XPte)\n",
    "print(\"**************classification report for testing data*****************\")\n",
    "print(cla_imbcfc(cla_imb_YQte, drug_pred_test))\n",
    "print(\"**************confusion matrix for testing data*****************\")\n",
    "cm_test = cla_imbcom(cla_imb_YQte, drug_pred_test)\n",
    "disp_test = cla_imbcmdi(confusion_matrix=cm_test, display_labels=[0, 1, 2, 3, 4])\n",
    "disp_test.plot(cmap = 'summer')"
   ]
  },
  {
   "cell_type": "markdown",
   "metadata": {
    "id": "VRa3B8T4PPT6"
   },
   "source": [
    "#### GaussianNB"
   ]
  },
  {
   "cell_type": "code",
   "execution_count": 35,
   "metadata": {
    "executionInfo": {
     "elapsed": 19,
     "status": "ok",
     "timestamp": 1722108449647,
     "user": {
      "displayName": "Jada",
      "userId": "13373990166318476339"
     },
     "user_tz": -330
    },
    "id": "OOY6IfJhPUEt"
   },
   "outputs": [],
   "source": [
    "from sklearn.naive_bayes import GaussianNB as hosp_mrt_gus"
   ]
  },
  {
   "cell_type": "code",
   "execution_count": 36,
   "metadata": {
    "colab": {
     "base_uri": "https://localhost:8080/"
    },
    "executionInfo": {
     "elapsed": 18,
     "status": "ok",
     "timestamp": 1722108449647,
     "user": {
      "displayName": "Jada",
      "userId": "13373990166318476339"
     },
     "user_tz": -330
    },
    "id": "o2aktxdS_779",
    "outputId": "92863321-d0c0-4119-8222-37ff7b6b155c"
   },
   "outputs": [
    {
     "name": "stdout",
     "output_type": "stream",
     "text": [
      "Best Parameter {'var_smoothing': 1e-06}\n"
     ]
    }
   ],
   "source": [
    "cla_pam_gid = {\n",
    "    'var_smoothing': [1e-9, 1e-8, 1e-7, 1e-6, 1e-5]\n",
    "}\n",
    "cla_pam_gid_sh = cla_imbgdrc(estimator=hosp_mrt_gus(), param_grid=cla_pam_gid, cv=5)\n",
    "cla_pam_gid_sh.fit(cla_imb_XPtr, cla_imb_YQtr)\n",
    "print(\"Best Parameter\",cla_pam_gid_sh.best_params_)\n",
    "mdl_gnb = cla_pam_gid_sh.best_estimator_"
   ]
  },
  {
   "cell_type": "code",
   "execution_count": 37,
   "metadata": {
    "colab": {
     "base_uri": "https://localhost:8080/",
     "height": 709
    },
    "executionInfo": {
     "elapsed": 910,
     "status": "ok",
     "timestamp": 1722108450540,
     "user": {
      "displayName": "Jada",
      "userId": "13373990166318476339"
     },
     "user_tz": -330
    },
    "id": "y36EQ93t_71p",
    "outputId": "dff52ad0-3278-4c9e-ac04-3a2731616943"
   },
   "outputs": [
    {
     "name": "stdout",
     "output_type": "stream",
     "text": [
      "**************classification report for validation data*****************\n",
      "              precision    recall  f1-score   support\n",
      "\n",
      "           0       1.00      0.90      0.95        20\n",
      "           1       0.88      1.00      0.93        14\n",
      "           2       0.89      1.00      0.94        17\n",
      "           3       1.00      1.00      1.00        17\n",
      "           4       1.00      0.91      0.95        23\n",
      "\n",
      "    accuracy                           0.96        91\n",
      "   macro avg       0.95      0.96      0.96        91\n",
      "weighted avg       0.96      0.96      0.96        91\n",
      "\n",
      "**************confusion matrix for validation data*****************\n"
     ]
    },
    {
     "data": {
      "text/plain": [
       "<sklearn.metrics._plot.confusion_matrix.ConfusionMatrixDisplay at 0x78063af5af50>"
      ]
     },
     "execution_count": 37,
     "metadata": {},
     "output_type": "execute_result"
    },
    {
     "data": {
      "image/png": "[encoded data removed]",
      "text/plain": [
       "<Figure size 640x480 with 2 Axes>"
      ]
     },
     "metadata": {},
     "output_type": "display_data"
    }
   ],
   "source": [
    "\n",
    "drug_pdt_val = mdl_gnb.predict(cla_imb_XPva)\n",
    "print(\"**************classification report for validation data*****************\")\n",
    "print(cla_imbcfc(cla_imb_YQva, drug_pdt_val))\n",
    "print(\"**************confusion matrix for validation data*****************\")\n",
    "cm_val = cla_imbcom(cla_imb_YQva, drug_pdt_val)\n",
    "disp_val = cla_imbcmdi(confusion_matrix=cm_val, display_labels=[0, 1, 2, 3, 4])\n",
    "disp_val.plot(cmap = 'summer')"
   ]
  },
  {
   "cell_type": "code",
   "execution_count": 38,
   "metadata": {
    "colab": {
     "base_uri": "https://localhost:8080/",
     "height": 709
    },
    "executionInfo": {
     "elapsed": 20,
     "status": "ok",
     "timestamp": 1722108450540,
     "user": {
      "displayName": "Jada",
      "userId": "13373990166318476339"
     },
     "user_tz": -330
    },
    "id": "SQM_6_8mASjv",
    "outputId": "c528b293-90f0-4942-c958-b751edcf13e2"
   },
   "outputs": [
    {
     "name": "stdout",
     "output_type": "stream",
     "text": [
      "**************classification report for testing data*****************\n",
      "              precision    recall  f1-score   support\n",
      "\n",
      "           0       1.00      0.88      0.94        17\n",
      "           1       0.90      1.00      0.95        19\n",
      "           2       0.93      1.00      0.96        13\n",
      "           3       0.96      0.96      0.96        23\n",
      "           4       1.00      0.95      0.97        19\n",
      "\n",
      "    accuracy                           0.96        91\n",
      "   macro avg       0.96      0.96      0.96        91\n",
      "weighted avg       0.96      0.96      0.96        91\n",
      "\n",
      "**************confusion matrix for testing data*****************\n"
     ]
    },
    {
     "data": {
      "text/plain": [
       "<sklearn.metrics._plot.confusion_matrix.ConfusionMatrixDisplay at 0x78063ae51750>"
      ]
     },
     "execution_count": 38,
     "metadata": {},
     "output_type": "execute_result"
    },
    {
     "data": {
      "image/png": "[encoded data removed]",
      "text/plain": [
       "<Figure size 640x480 with 2 Axes>"
      ]
     },
     "metadata": {},
     "output_type": "display_data"
    }
   ],
   "source": [
    "\n",
    "drug_pred_test = mdl_gnb.predict(cla_imb_XPte)\n",
    "print(\"**************classification report for testing data*****************\")\n",
    "print(cla_imbcfc(cla_imb_YQte, drug_pred_test))\n",
    "print(\"**************confusion matrix for testing data*****************\")\n",
    "cm_test = cla_imbcom(cla_imb_YQte, drug_pred_test)\n",
    "disp_test = cla_imbcmdi(confusion_matrix=cm_test, display_labels=[0, 1, 2, 3, 4])\n",
    "disp_test.plot(cmap = 'summer')"
   ]
  },
  {
   "cell_type": "code",
   "execution_count": 38,
   "metadata": {
    "executionInfo": {
     "elapsed": 17,
     "status": "ok",
     "timestamp": 1722108450540,
     "user": {
      "displayName": "Jada",
      "userId": "13373990166318476339"
     },
     "user_tz": -330
    },
    "id": "TozTnCyAAXHY"
   },
   "outputs": [],
   "source": []
  }
 ],
 "metadata": {
  "colab": {
   "provenance": []
  },
  "kernelspec": {
   "display_name": "Python 3 (ipykernel)",
   "language": "python",
   "name": "python3"
  },
  "language_info": {
   "codemirror_mode": {
    "name": "ipython",
    "version": 3
   },
   "file_extension": ".py",
   "mimetype": "text/x-python",
   "name": "python",
   "nbconvert_exporter": "python",
   "pygments_lexer": "ipython3",
   "version": "3.12.4"
  }
 },
 "nbformat": 4,
 "nbformat_minor": 4
}
